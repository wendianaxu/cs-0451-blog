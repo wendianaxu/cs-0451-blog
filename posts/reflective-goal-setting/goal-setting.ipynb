{
 "cells": [
  {
   "cell_type": "raw",
   "metadata": {},
   "source": [
    "---\n",
    "title: \"Reflective Goal-Setting\"\n",
    "type: \"Reflection\"\n",
    "date: 2023-02-27\n",
    "description: |\n",
    "    We plan our goals for learning, engagement, and achievement over the course of the semester.\n",
    "publish: \"true\"\n",
    "---"
   ]
  },
  {
   "cell_type": "markdown",
   "metadata": {},
   "source": [
    "# CSCI 0451: Reflective Goal-Setting\n",
    "\n",
    "Wen (Diana) Xu"
   ]
  },
  {
   "cell_type": "markdown",
   "metadata": {},
   "source": [
    "## What You'll Learn\n",
    "\n",
    "*The knowledge we'll develop in CSCI 0451 can be broadly divided into four main areas:*\n",
    "\n",
    "- ***Theory***: *mathematical descriptions of frameworks and algorithms.*\n",
    "- ***Implementation***: *effective coding and use of tools in order to implement efficient machine learning algorithms.*\n",
    "- ***Experimentation***: *performing experiments to assess the performance of algorithms and clearly communicating about the results.*\n",
    "- ***Social responsibility***: *critical analysis of sources of bias and harm in machine learning algorithms; theoretical formulations of fairness and bias*\n",
    "\n",
    "*Every student should grow toward each of these areas, but you can choose to specialize if you'd like! If there are one or two of these categories on which you'd especially like to focus, list them below. Feel free to include any details that you'd like -- this can help me tailor the course content to your interests.*"
   ]
  },
  {
   "cell_type": "markdown",
   "metadata": {},
   "source": [
    "I would like to focus more on **experimentation** and **social responsibility**. I am interested in the applications and implications of machine learning algorithms -- how to make use of machine learning to solve problems in the real world, how to assess the performance of the algorithms in relation to the specific problem, and how we can effectively communicate machine learning to a broader audience. I also hope to look more into bias in machine learning algorithms -- what causes them and how to identify and reduce sources of bias. "
   ]
  },
  {
   "cell_type": "markdown",
   "metadata": {},
   "source": [
    "## What You'll Achieve\n",
    "\n",
    "### Blog Posts\n",
    "\n",
    "*Most blog posts will require around 5-8 hours on average to complete, plus time for revisions in response to feedback. Blog posts will most frequently involve a mix of mathematical problem-solving, coding, experimentation, and written discussion. Some blog posts will ask you to critically discuss recent readings in an essay-like format.*"
   ]
  },
  {
   "cell_type": "markdown",
   "metadata": {},
   "source": [
    "- Submit a blog post in most weeks during the semester. \n",
    "- Submit the first draft of no more than two blog post after the “best-by” date.\n",
    "- Revise at least five blog posts to the “No Revisions Suggested” level.\n",
    "- Go above and beyond in at least two blog posts by performing experiments/exploring visualization choices to communicate results/discussing implications significantly beyond what is required. "
   ]
  },
  {
   "cell_type": "markdown",
   "metadata": {},
   "source": [
    "### Course Presence (Participation)\n",
    "\n",
    "*You make a choice each day about how to show up for class: whether you'll be prepared, whether you'll engage with me and your peers in a constructive manner; and whether you'll be active during lecture and discussions. We will also have a special opportunity this semester to engage with a renowned expert in machine learning, algorithmic bias, and the ethics of artificial intelligence.*\n",
    "\n",
    "*An especially important form of course presence is the daily warmup. We'll spend the first 10-15 minutes of most class periods on warmup activities. You're expected to have prepared the warmup activity ahead of time (this means you'll need to have completed the readings as well). Each time, we'll sort into groups of 5-6 students, and one of you (randomly selected) will be responsible for presenting the activity on the whiteboard. If you're not feeling prepared to present the activity, you can \"pass\" to the next person, or ask for help along the way.*"
   ]
  },
  {
   "cell_type": "markdown",
   "metadata": {},
   "source": [
    "- Complete all core readings prior to each class periods.\n",
    "- Complete the optional readings that correspond to my areas of specialization.\n",
    "- Be prepared for most warmup activities even on days when I am not the leader. \n",
    "- “Pass” at most once when asked to lead the warmup activity for my group.\n",
    "- Propose questions ahead of time for our guest speaker.\n",
    "- Often work with classmates together on blog posts or other course work outside of class time. \n",
    "- Often attend Peer Help or Student Hours (after preparing questions and working examples)."
   ]
  },
  {
   "cell_type": "markdown",
   "metadata": {},
   "source": [
    "### Project \n",
    "\n",
    "*To finish off the course, you'll complete a long-term project that showcases your interests and skills. You'll be free to propose and pursue a topic. My expectation is that most projects will move significantly beyond the content covered in class in some way: you might implement a new algorithm, study a complex data set in depth, or conduct a series of experiments related to assessing algorithmic bias in a certain class of algorithm. You'll be expected to complete this project in small groups (of your choosing), and update us at a few milestones along the way.*\n",
    "\n",
    "*Please share a bit about what kind of topic might excite you, and set a few goals about how you plan to show up as a constructive team-member and co-inquirer (see the [ideas](ideas.qmd) for some inspiration*). "
   ]
  },
  {
   "cell_type": "markdown",
   "metadata": {},
   "source": [
    "- Submit all project milestones (proposal, progress report, etc) on time.\n",
    "- Set regular time each week to work with project partners.\n",
    "- Communicate with my group in a clear and timely manner.\n",
    "- Complete all my designated work on time. \n",
    "- Draft designated sections of the project report. \n",
    "- Revise sections of the project report in response to feedback.\n",
    "- Take the lead in creating and delivering part of the final project presentation.\n",
    "- Take the lead in checking project figures for accuracy and clear labeling."
   ]
  }
 ],
 "metadata": {
  "kernelspec": {
   "display_name": "Python 3 (ipykernel)",
   "language": "python",
   "name": "python3"
  },
  "language_info": {
   "codemirror_mode": {
    "name": "ipython",
    "version": 3
   },
   "file_extension": ".py",
   "mimetype": "text/x-python",
   "name": "python",
   "nbconvert_exporter": "python",
   "pygments_lexer": "ipython3",
   "version": "3.9.13"
  },
  "vscode": {
   "interpreter": {
    "hash": "debe06cc0f9553f110b64dc3926c05df82dae2145b852c8422b9c04315589dcb"
   }
  }
 },
 "nbformat": 4,
 "nbformat_minor": 4
}
