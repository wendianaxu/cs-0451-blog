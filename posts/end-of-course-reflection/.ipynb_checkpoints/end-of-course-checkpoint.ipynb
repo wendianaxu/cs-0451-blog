{
 "cells": [
  {
   "cell_type": "raw",
   "metadata": {},
   "source": [
    "---\n",
    "title: \"End-Of-Course Reflection\"\n",
    "type: \"Reflection\"\n",
    "date: 2023-05-14\n",
    "description: |\n",
    "    We reflect on our learning, engagement, and achievement over the course of the semester. \n",
    "objectives: \n",
    "  - Reflection\n",
    "publish: \"true\"\n",
    "---"
   ]
  },
  {
   "cell_type": "markdown",
   "metadata": {},
   "source": [
    "# CSCI 0451: End-Of-Course Reflection\n",
    "\n",
    "[your name here]"
   ]
  },
  {
   "cell_type": "markdown",
   "metadata": {},
   "source": [
    "## The Data\n",
    "\n",
    "In this section I'll ask you to fill in some data. You don't have to give precise numbers -- approximate, conversational responses are fine. For example, when I ask \"how often did you attend class,\" good answers include \"almost always,\" \"I missed three times,\" \"about 75% of the time,\" \"not as often as I wanted,\" etc. \n",
    "\n",
    "### Presence in Class\n",
    "\n",
    "- *How often did you attend class? (e.g. \"almost always,\" \"I missed three times,\" etc.)* I attended all classes. \n",
    "- *How often did you take notes on the core readings ahead of the class period?* I always read the readings ahead of class and took notes sometimes. \n",
    "- *How often were you **prepared** to present the daily warm-up exercise to your team, even if you weren't actually called?* I was always prepared to present. \n",
    "- *How many times did you **actually** present the daily warm-up to your team?* About 1/4 of the times. \n",
    "- *How many times did you ask your team for help while presenting the daily warm-up?* For a few times. \n",
    "- *How often did you learn something new from a teammate's presentation of the daily warm-up?* I felt I learned something new for most of the times. \n",
    "- *How often did you help a teammate during the daily warm-up presentation?* For a few times. \n",
    "- *Did you contribute a question for our guest speaker?* Yes. \n",
    "\n",
    "### Presence Outside of Class \n",
    "\n",
    "- *How often did you attend Student Hours or Peer Help?* About once a week to every two weeks. \n",
    "- *How often did you ask for or receive help from your fellow students?* About once a week. \n",
    "- *Did you regularly participate in a study group outside class?* Yes. \n",
    "- *How often did you post questions or answers in Slack?* I didn't post questions or answers in Slack. \n",
    "\n",
    "### Assignments and Effort\n",
    "\n",
    "- *How many blog posts did you submit?* 8\n",
    "- *How many of your submitted blog posts are at each of the following feedback stages?*\n",
    "    - *No revisions suggested:* 6\n",
    "    - *Revisions useful:* 0\n",
    "    - *Revisions encouraged:* 0\n",
    "    - *Incomplete:* 0\n",
    "    - *Haven't received feedback:* 2\n",
    "- *Roughly how many hours per week did you spend on this course outside of class?* Around 7-10 hours\n"
   ]
  },
  {
   "cell_type": "markdown",
   "metadata": {},
   "source": [
    "## What You Learned\n",
    "\n",
    "*At the beginning of the course, you may have expressed an interest in focusing a little extra on one or two of the following four categories:* \n",
    "\n",
    "- ***Theory***: *mathematical descriptions of frameworks and algorithms.*\n",
    "- ***Implementation***: *effective coding and use of tools in order to implement efficient machine learning algorithms.*\n",
    "- ***Experimentation***: *performing experiments to assess the performance of algorithms and clearly communicating about the results.*\n",
    "- ***Social responsibility***: *critical analysis of sources of bias and harm in machine learning algorithms; theoretical formulations of fairness and bias*\n",
    "\n",
    "*Did you choose to focus on any of these categories? If so, what did you do in order to pursue your interest?*    "
   ]
  },
  {
   "cell_type": "markdown",
   "metadata": {},
   "source": [
    "I chose to focus on **experimentation** and **social responsibility**. For both topics, I have completed most blog posts that primarily focused on them, such as penguin classification, bias auditing, and deep music classification. I put extra effort into some of these blog posts by discussing beyond what is required. I have also focused on these two topics in my final project, where we explored different model and feature choices and included a discussion of potential ethical implications of our model. "
   ]
  },
  {
   "cell_type": "markdown",
   "metadata": {},
   "source": [
    "## Reflecting on Goals\n",
    "\n",
    "*For each of the categories below, replace the \"[your response here]\" cell with 1-2 paragraphs in which you reflect on the following questions:* \n",
    "\n",
    "- *In what ways did you **meet** your goals from the beginning of the course? Be specific: explain what the goal was and what you did to meet it.* \n",
    "- *In what ways did you **not meet** your goals from the beginning of the course? Be specific: explain what the goal was and what the gap was between what you aspired to and what happened.* \n",
    "- *If there's any **context** you want to share about how you fared relative to your goals, please do!*\n",
    "\n",
    "### Blog Posts"
   ]
  },
  {
   "cell_type": "markdown",
   "metadata": {},
   "source": [
    "I have met most of my goals for the blog posts. I submitted blog posts in most weeks during the semester, submitted no more thant two blog posts later than the best-by date, and revised all of them that I have received feedback so far to the \"no revisions suggested\" level. \n",
    "\n",
    "For my last goal of going above and beyond in at least two blog posts, I think that I haven't met the level that I expected when setting the goal because I didn't explore any new visualization choices to communicate results. However, I did include more discussions in some of my blog posts, so I will consider this goal to be met. "
   ]
  },
  {
   "cell_type": "markdown",
   "metadata": {},
   "source": [
    "### Course Presence (Participation)"
   ]
  },
  {
   "cell_type": "markdown",
   "metadata": {},
   "source": [
    "I have met all my goals for participation. I completed all required readings and most, though not all optional readings related to my areas of focus. I was prepared for all warmup activities. I prepared a question for our guest speaker. I often worked with classmates together outside of class. I did not attend office hours or peer help hours as much as I wanted during the first of the semester, but I have been there more for the last few weeks of the semester. "
   ]
  },
  {
   "cell_type": "markdown",
   "metadata": {},
   "source": [
    "### Project "
   ]
  },
  {
   "cell_type": "markdown",
   "metadata": {},
   "source": [
    "I have met all of my project goals. We submitted all major milestones on time and I completed all my designated work on time. We set up regular times to meet each week and had clear and timely communications. I drafted designated sections of the project blog post and prepared for and delivered designated parts of the presentation. \n",
    "\n",
    "In addtion to my goals, I also contributed to cleaning up the many notebook files that we created throughout the process and compiling them into our final notebook for the demonstration of our workflow. "
   ]
  },
  {
   "cell_type": "markdown",
   "metadata": {},
   "source": [
    "# Your Proposed Letter Grade\n",
    "\n",
    "*Take 15 minutes to look back on your responses in each of the sections above. Then, make a proposal for the letter grade that you feel best reflects your learning, participation, and achievement in CSCI 0451. Here are some soundbytes to help guide your thinking:*\n",
    "\n",
    "*An **A** sounds like:* \n",
    "\n",
    "- *\"I am very proud of my time in this course.\"*\n",
    "- *\"I have grown significantly in multiple ways that matter to me.\"*\n",
    "- *\"I am ready to take the theory, techniques, and ideas of this course into my future classes, projects, hobbies, or career.\"* \n",
    "\n",
    "*A **B** sounds like:* \n",
    "\n",
    "- *\"I had some opportunities to learn more, overall I feel good about my time in this course.\"*\n",
    "- *\"I am able to explain some new things or achieve new tasks.\"*\n",
    "- *\"I can see a few ideas from this course that will be relevant for my future classes, projects, hobbies, or career.\"*\n",
    "\n",
    "*A **C** sounds like:* \n",
    "\n",
    "- *\"I often made a good effort, but I missed many opportunities to get more out of my time in this course.\"*\n",
    "- *\"I might be able to complete some new tasks related to the course content, but only with significant further guidance.\"* \n",
    "- *\"I don't see any ways to take the contents of this course into my future classes, projects, hobbies, or career.\"*\n",
    "\n",
    "*You might find that some of these soundbytes resonate and other's don't! Take some time, see what feels right, and don't be afraid to celebrate your achievements.* "
   ]
  },
  {
   "cell_type": "markdown",
   "metadata": {},
   "source": [
    "[Your proposed letter grade in this section should be based purely on demonstrations of learning that you have **already submitted**.]{.aside}\n",
    "\n",
    "> **Upon reflection, I feel that my learning, participation, and achievement in CSCI 0451 are best reflected by a grade of** A\n"
   ]
  }
 ],
 "metadata": {
  "kernelspec": {
   "display_name": "Python 3 (ipykernel)",
   "language": "python",
   "name": "python3"
  },
  "language_info": {
   "codemirror_mode": {
    "name": "ipython",
    "version": 3
   },
   "file_extension": ".py",
   "mimetype": "text/x-python",
   "name": "python",
   "nbconvert_exporter": "python",
   "pygments_lexer": "ipython3",
   "version": "3.9.13"
  },
  "vscode": {
   "interpreter": {
    "hash": "debe06cc0f9553f110b64dc3926c05df82dae2145b852c8422b9c04315589dcb"
   }
  }
 },
 "nbformat": 4,
 "nbformat_minor": 4
}
