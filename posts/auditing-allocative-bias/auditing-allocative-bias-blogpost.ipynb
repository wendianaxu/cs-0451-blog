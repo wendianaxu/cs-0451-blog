{
 "cells": [
  {
   "cell_type": "raw",
   "id": "f264279c-cced-42ce-9504-e217a02b68e6",
   "metadata": {},
   "source": [
    "---\n",
    "title: \"Auditing Allocative Bias\"\n",
    "date: 2023-03-29\n",
    "description: |\n",
    "    Creating a machine learning model to predict an individual characteristic based on demographic variables and performing a bias audit on the model. \n",
    "publish: \"true\"\n",
    "---"
   ]
  },
  {
   "cell_type": "markdown",
   "id": "f9538604-9a37-4e63-b1c7-760333d4fee8",
   "metadata": {},
   "source": [
    "# Auditing Allocative Bias\n",
    "In this blogpost, I will train a model to predict income based on demographic variables *excluding* sex, and perform audit for gender bias on the model."
   ]
  },
  {
   "cell_type": "markdown",
   "id": "dc9b8fe2-6bc1-48b3-bdbc-7b2a8f9800a1",
   "metadata": {},
   "source": [
    "## Data Preparation\n",
    "The data I choose to look into is the PUMS data in for Illinois in 2019. "
   ]
  },
  {
   "cell_type": "code",
   "execution_count": 2,
   "id": "43c60b27-6ac3-4d89-aba7-cbdd51141fb1",
   "metadata": {},
   "outputs": [
    {
     "data": {
      "text/html": [
       "<div>\n",
       "<style scoped>\n",
       "    .dataframe tbody tr th:only-of-type {\n",
       "        vertical-align: middle;\n",
       "    }\n",
       "\n",
       "    .dataframe tbody tr th {\n",
       "        vertical-align: top;\n",
       "    }\n",
       "\n",
       "    .dataframe thead th {\n",
       "        text-align: right;\n",
       "    }\n",
       "</style>\n",
       "<table border=\"1\" class=\"dataframe\">\n",
       "  <thead>\n",
       "    <tr style=\"text-align: right;\">\n",
       "      <th></th>\n",
       "      <th>AGEP</th>\n",
       "      <th>SCHL</th>\n",
       "      <th>MAR</th>\n",
       "      <th>DIS</th>\n",
       "      <th>ESP</th>\n",
       "      <th>CIT</th>\n",
       "      <th>MIG</th>\n",
       "      <th>MIL</th>\n",
       "      <th>ANC</th>\n",
       "      <th>NATIVITY</th>\n",
       "      <th>DEAR</th>\n",
       "      <th>DEYE</th>\n",
       "      <th>DREM</th>\n",
       "      <th>SEX</th>\n",
       "      <th>RAC1P</th>\n",
       "      <th>ESR</th>\n",
       "      <th>PINCP</th>\n",
       "    </tr>\n",
       "  </thead>\n",
       "  <tbody>\n",
       "    <tr>\n",
       "      <th>0</th>\n",
       "      <td>19</td>\n",
       "      <td>19.0</td>\n",
       "      <td>5</td>\n",
       "      <td>2</td>\n",
       "      <td>NaN</td>\n",
       "      <td>1</td>\n",
       "      <td>1.0</td>\n",
       "      <td>4.0</td>\n",
       "      <td>1</td>\n",
       "      <td>1</td>\n",
       "      <td>2</td>\n",
       "      <td>2</td>\n",
       "      <td>2.0</td>\n",
       "      <td>2</td>\n",
       "      <td>1</td>\n",
       "      <td>6.0</td>\n",
       "      <td>0.0</td>\n",
       "    </tr>\n",
       "    <tr>\n",
       "      <th>1</th>\n",
       "      <td>18</td>\n",
       "      <td>18.0</td>\n",
       "      <td>5</td>\n",
       "      <td>2</td>\n",
       "      <td>NaN</td>\n",
       "      <td>1</td>\n",
       "      <td>3.0</td>\n",
       "      <td>4.0</td>\n",
       "      <td>4</td>\n",
       "      <td>1</td>\n",
       "      <td>2</td>\n",
       "      <td>2</td>\n",
       "      <td>2.0</td>\n",
       "      <td>2</td>\n",
       "      <td>1</td>\n",
       "      <td>6.0</td>\n",
       "      <td>800.0</td>\n",
       "    </tr>\n",
       "    <tr>\n",
       "      <th>2</th>\n",
       "      <td>22</td>\n",
       "      <td>16.0</td>\n",
       "      <td>5</td>\n",
       "      <td>2</td>\n",
       "      <td>NaN</td>\n",
       "      <td>1</td>\n",
       "      <td>3.0</td>\n",
       "      <td>1.0</td>\n",
       "      <td>2</td>\n",
       "      <td>1</td>\n",
       "      <td>2</td>\n",
       "      <td>2</td>\n",
       "      <td>2.0</td>\n",
       "      <td>1</td>\n",
       "      <td>1</td>\n",
       "      <td>4.0</td>\n",
       "      <td>35000.0</td>\n",
       "    </tr>\n",
       "    <tr>\n",
       "      <th>3</th>\n",
       "      <td>64</td>\n",
       "      <td>16.0</td>\n",
       "      <td>5</td>\n",
       "      <td>2</td>\n",
       "      <td>NaN</td>\n",
       "      <td>1</td>\n",
       "      <td>1.0</td>\n",
       "      <td>4.0</td>\n",
       "      <td>1</td>\n",
       "      <td>1</td>\n",
       "      <td>2</td>\n",
       "      <td>2</td>\n",
       "      <td>2.0</td>\n",
       "      <td>2</td>\n",
       "      <td>1</td>\n",
       "      <td>6.0</td>\n",
       "      <td>0.0</td>\n",
       "    </tr>\n",
       "    <tr>\n",
       "      <th>4</th>\n",
       "      <td>53</td>\n",
       "      <td>16.0</td>\n",
       "      <td>5</td>\n",
       "      <td>2</td>\n",
       "      <td>NaN</td>\n",
       "      <td>5</td>\n",
       "      <td>1.0</td>\n",
       "      <td>4.0</td>\n",
       "      <td>1</td>\n",
       "      <td>2</td>\n",
       "      <td>2</td>\n",
       "      <td>2</td>\n",
       "      <td>2.0</td>\n",
       "      <td>1</td>\n",
       "      <td>1</td>\n",
       "      <td>1.0</td>\n",
       "      <td>31200.0</td>\n",
       "    </tr>\n",
       "  </tbody>\n",
       "</table>\n",
       "</div>"
      ],
      "text/plain": [
       "   AGEP  SCHL  MAR  DIS  ESP  CIT  MIG  MIL  ANC  NATIVITY  DEAR  DEYE  DREM  \\\n",
       "0    19  19.0    5    2  NaN    1  1.0  4.0    1         1     2     2   2.0   \n",
       "1    18  18.0    5    2  NaN    1  3.0  4.0    4         1     2     2   2.0   \n",
       "2    22  16.0    5    2  NaN    1  3.0  1.0    2         1     2     2   2.0   \n",
       "3    64  16.0    5    2  NaN    1  1.0  4.0    1         1     2     2   2.0   \n",
       "4    53  16.0    5    2  NaN    5  1.0  4.0    1         2     2     2   2.0   \n",
       "\n",
       "   SEX  RAC1P  ESR    PINCP  \n",
       "0    2      1  6.0      0.0  \n",
       "1    2      1  6.0    800.0  \n",
       "2    1      1  4.0  35000.0  \n",
       "3    2      1  6.0      0.0  \n",
       "4    1      1  1.0  31200.0  "
      ]
     },
     "execution_count": 2,
     "metadata": {},
     "output_type": "execute_result"
    }
   ],
   "source": [
    "from folktables import ACSDataSource, ACSEmployment, BasicProblem, adult_filter\n",
    "import numpy as np\n",
    "\n",
    "STATE = \"IL\"\n",
    "\n",
    "data_source = ACSDataSource(survey_year='2019', \n",
    "                            horizon='1-Year', \n",
    "                            survey='person')\n",
    "\n",
    "acs_data = data_source.get_data(states=[STATE], download=True)\n",
    "possible_features=['AGEP', 'SCHL', 'MAR', 'DIS', 'ESP', 'CIT', 'MIG', 'MIL', 'ANC', 'NATIVITY', 'DEAR', 'DEYE', 'DREM', 'SEX', 'RAC1P', 'ESR', \"PINCP\"]\n",
    "acs_data[possible_features].head()"
   ]
  },
  {
   "cell_type": "markdown",
   "id": "6f27448d-2121-4bef-993a-4e2cca5c9d47",
   "metadata": {},
   "source": [
    "I would like to predict whether an individual's income is over $50K based on all the variables in <code>possible_features</code> except for sex. I will create a feature matrix, a label vector, and a group label vector using the relevant variables, and split them into training data and test data."
   ]
  },
  {
   "cell_type": "code",
   "execution_count": 3,
   "id": "0d2884c0-d84c-4a04-8ace-1b70ca2313ac",
   "metadata": {},
   "outputs": [],
   "source": [
    "features_to_use = [f for f in possible_features if f not in [\"PINCP\", \"SEX\"]]\n",
    "\n",
    "IncomeProblem = BasicProblem(\n",
    "    features=features_to_use,\n",
    "    target='PINCP',\n",
    "    target_transform=lambda x: (x > 50000) * 1, # transform income variable into binary category\n",
    "    group='SEX',\n",
    "    preprocess=lambda x: x,\n",
    "    postprocess=lambda x: np.nan_to_num(x, -1),\n",
    ")\n",
    "\n",
    "features, label, group = IncomeProblem.df_to_numpy(acs_data)\n",
    "\n",
    "# train-test split\n",
    "from sklearn.model_selection import train_test_split\n",
    "X_train, X_test, y_train, y_test, group_train, group_test = train_test_split(\n",
    "    features, label, group, test_size=0.2, random_state=0)"
   ]
  },
  {
   "cell_type": "markdown",
   "id": "a5c33d2a-e87d-43ef-b7ef-dfa2f7a3d2d7",
   "metadata": {},
   "source": [
    "### Basic Descriptives\n",
    "Before training any models, I will first explore the basic descriptives of the dataset. "
   ]
  },
  {
   "cell_type": "code",
   "execution_count": 4,
   "id": "1457e7c2-bc6b-4e88-ab00-83d38f2d5b80",
   "metadata": {},
   "outputs": [],
   "source": [
    "import pandas as pd\n",
    "df = pd.DataFrame(X_train, columns = features_to_use)\n",
    "df[\"group\"] = group_train\n",
    "df[\"label\"] = y_train"
   ]
  },
  {
   "cell_type": "code",
   "execution_count": 5,
   "id": "457c1acd-fa2c-41d3-b628-d5b4b8b7b738",
   "metadata": {},
   "outputs": [
    {
     "data": {
      "text/plain": [
       "100005"
      ]
     },
     "execution_count": 5,
     "metadata": {},
     "output_type": "execute_result"
    }
   ],
   "source": [
    "size = len(df)\n",
    "size"
   ]
  },
  {
   "cell_type": "markdown",
   "id": "1e290905-00f8-44f2-a599-6f26970fc69d",
   "metadata": {},
   "source": [
    "There are 100005 individuals in the dataset. "
   ]
  },
  {
   "cell_type": "code",
   "execution_count": 6,
   "id": "b77df336-63b1-420f-8735-dee0eca96002",
   "metadata": {},
   "outputs": [
    {
     "data": {
      "text/plain": [
       "0.25900704964751764"
      ]
     },
     "execution_count": 6,
     "metadata": {},
     "output_type": "execute_result"
    }
   ],
   "source": [
    "(df[\"label\"] == 1).sum()/size"
   ]
  },
  {
   "cell_type": "markdown",
   "id": "36450bcf-1427-48f9-9a8f-45150551c0ae",
   "metadata": {},
   "source": [
    "Around 25.9% of these individuals earn over $50K. "
   ]
  },
  {
   "cell_type": "code",
   "execution_count": 7,
   "id": "c1575983-e67b-45d1-9a72-f6380a501c4c",
   "metadata": {},
   "outputs": [
    {
     "data": {
      "text/plain": [
       "group\n",
       "1    49135\n",
       "2    50870\n",
       "dtype: int64"
      ]
     },
     "execution_count": 7,
     "metadata": {},
     "output_type": "execute_result"
    }
   ],
   "source": [
    "df.groupby(\"group\").size()"
   ]
  },
  {
   "cell_type": "markdown",
   "id": "eb9824e2-6893-4399-8772-a6dfa25792fd",
   "metadata": {},
   "source": [
    "49,135 of the individuals in the dataset are male and 50,870 are female."
   ]
  },
  {
   "cell_type": "code",
   "execution_count": 8,
   "id": "01e930b4-6d38-4cda-afd5-c070c0f650da",
   "metadata": {},
   "outputs": [
    {
     "data": {
      "text/html": [
       "<div>\n",
       "<style scoped>\n",
       "    .dataframe tbody tr th:only-of-type {\n",
       "        vertical-align: middle;\n",
       "    }\n",
       "\n",
       "    .dataframe tbody tr th {\n",
       "        vertical-align: top;\n",
       "    }\n",
       "\n",
       "    .dataframe thead th {\n",
       "        text-align: right;\n",
       "    }\n",
       "</style>\n",
       "<table border=\"1\" class=\"dataframe\">\n",
       "  <thead>\n",
       "    <tr style=\"text-align: right;\">\n",
       "      <th></th>\n",
       "      <th>group</th>\n",
       "      <th>label</th>\n",
       "    </tr>\n",
       "  </thead>\n",
       "  <tbody>\n",
       "    <tr>\n",
       "      <th>0</th>\n",
       "      <td>1</td>\n",
       "      <td>0.326712</td>\n",
       "    </tr>\n",
       "    <tr>\n",
       "      <th>1</th>\n",
       "      <td>2</td>\n",
       "      <td>0.193611</td>\n",
       "    </tr>\n",
       "  </tbody>\n",
       "</table>\n",
       "</div>"
      ],
      "text/plain": [
       "   group     label\n",
       "0      1  0.326712\n",
       "1      2  0.193611"
      ]
     },
     "execution_count": 8,
     "metadata": {},
     "output_type": "execute_result"
    }
   ],
   "source": [
    "df.groupby(\"group\")[\"label\"].mean().reset_index()\n"
   ]
  },
  {
   "cell_type": "markdown",
   "id": "46f17659-5907-463c-bb26-cdade644166b",
   "metadata": {},
   "source": [
    "Around 32.7% of male individuals in the dataset has income over 50k dollars, but only 19.4% of women has income over $50k. "
   ]
  },
  {
   "cell_type": "code",
   "execution_count": 9,
   "id": "ac5fc35b-5b2e-4aec-8ca8-a6fe6882d461",
   "metadata": {},
   "outputs": [
    {
     "data": {
      "image/png": "[encoded data removed]",
      "text/plain": [
       "<Figure size 640x480 with 1 Axes>"
      ]
     },
     "metadata": {},
     "output_type": "display_data"
    }
   ],
   "source": [
    "import seaborn as sns\n",
    "proportions = df.groupby([\"group\", \"RAC1P\"])[\"label\"].mean().reset_index()\n",
    "ax = sns.barplot(data = proportions, x = \"RAC1P\", y = \"label\", hue = \"group\")"
   ]
  },
  {
   "cell_type": "markdown",
   "id": "9c978996-4eca-4c5a-8b36-d99dc52ed092",
   "metadata": {},
   "source": [
    "It seems that for almost all race groups, the proportion of men with income over $50k is greater than that of women. The only exception is African Americans, for whom this proportion doesn't differ very much across sex. "
   ]
  },
  {
   "cell_type": "markdown",
   "id": "f71bfdc6-9936-49cf-924c-65b4835585c7",
   "metadata": {},
   "source": [
    "## Training the model\n",
    "I choose to use a decision tree classifier for my prediction. I will use cross-validation to find out the best max depth for the model. "
   ]
  },
  {
   "cell_type": "code",
   "execution_count": 11,
   "id": "37ad8ff6-43be-4b25-bd59-9945643a39fc",
   "metadata": {},
   "outputs": [
    {
     "name": "stdout",
     "output_type": "stream",
     "text": [
      "Best cv score =  0.8124193790310483\n",
      "Best max depth =  8\n"
     ]
    },
    {
     "data": {
      "image/png": "[encoded data removed]",
      "text/plain": [
       "<Figure size 640x480 with 1 Axes>"
      ]
     },
     "metadata": {},
     "output_type": "display_data"
    }
   ],
   "source": [
    "from sklearn.tree import DecisionTreeClassifier\n",
    "from sklearn.model_selection import cross_val_score\n",
    "\n",
    "cv_max = 0\n",
    "best_depth = 0\n",
    "cvs = []\n",
    "\n",
    "for d in range(2, 30):\n",
    "    # fit model\n",
    "    DTC = DecisionTreeClassifier(max_depth = d)\n",
    "    DTC.fit(X_train, y_train)\n",
    "\n",
    "    # cross-validation\n",
    "    cv_scores = cross_val_score(DTC, X_train, y_train, cv = 5)\n",
    "    cv_mean = cv_scores.mean()\n",
    "    cvs.append(cv_mean)\n",
    "\n",
    "    # update best cv score and best degree\n",
    "    if cv_mean > cv_max:\n",
    "        cv_max = cv_mean\n",
    "        best_depth = d\n",
    "\n",
    "print(\"Best cv score = \", cv_max)\n",
    "print(\"Best max depth = \", best_depth)\n",
    "\n",
    "# draw a line chart for cv scores at varying degrees\n",
    "import matplotlib.pyplot as plt\n",
    "fig = plt.plot(range(2, 30), cvs)\n",
    "xlab = plt.xlabel(\"Max depth\")\n",
    "ylab = plt.ylabel(\"CV score\")"
   ]
  },
  {
   "cell_type": "markdown",
   "id": "a5b70964-5398-4a53-ac5a-cd11fe01b3d6",
   "metadata": {},
   "source": [
    "As shown by the graph, the best performance is reached at a max depth of 8. "
   ]
  },
  {
   "cell_type": "markdown",
   "id": "4afaa5f4-96a1-4e1b-b2fd-16de9d01617e",
   "metadata": {},
   "source": [
    "## Auditing the Model\n",
    "Next, I will use the model on the test data and perform an audit for bias."
   ]
  },
  {
   "cell_type": "code",
   "execution_count": 12,
   "id": "e0291679-5a68-4939-a4cb-7183621e818e",
   "metadata": {},
   "outputs": [],
   "source": [
    "# train model and predict using test data\n",
    "DTC = DecisionTreeClassifier(max_depth = best_depth)\n",
    "DTC.fit(X_train, y_train)\n",
    "y_pred = DTC.predict(X_test)"
   ]
  },
  {
   "cell_type": "markdown",
   "id": "92c70bd8-543f-4749-9706-224a51d67e7e",
   "metadata": {},
   "source": [
    "### Overall Measures\n",
    "First, we will take a look at the measures for the whole dataset. "
   ]
  },
  {
   "cell_type": "code",
   "execution_count": 13,
   "id": "17f9940a-fe3a-402d-b7ba-def505e91afd",
   "metadata": {},
   "outputs": [
    {
     "name": "stdout",
     "output_type": "stream",
     "text": [
      "Overall accuracy =  0.8154547636189104\n",
      "PPV =  0.9172221027735971\n",
      "FNR =  0.15264673751117291\n",
      "FPR =  0.31661184210526316\n"
     ]
    }
   ],
   "source": [
    "from sklearn.metrics import confusion_matrix\n",
    "\n",
    "# get confusion matrix values\n",
    "cm = confusion_matrix(y_test, y_pred)\n",
    "TP, FP, FN, TN = cm[0][0], cm[0][1], cm[1][0], cm[1][1]\n",
    "\n",
    "test_score = DTC.score(X_test, y_test)\n",
    "PPV = TP / (TP + FP)\n",
    "FNR = FN / (TP + FN)\n",
    "FPR = FP / (TN + FP)\n",
    "\n",
    "print(\"Overall accuracy = \", test_score)\n",
    "print(\"PPV = \", PPV)\n",
    "print(\"FNR = \", FNR)\n",
    "print(\"FPR = \", FPR)"
   ]
  },
  {
   "cell_type": "markdown",
   "id": "0b25ed06-d431-4606-a835-8ca65d0f1fff",
   "metadata": {},
   "source": [
    "The overall accuracy and PPV show that the model is quite accurate. The FPR is one time higher than the FPR, suggesting that this model is more likely to wrongly predict that someone earns over $50K when they does not in reality, compared to wrongly predict that someone earns less than 50K. "
   ]
  },
  {
   "cell_type": "markdown",
   "id": "b04ed304-702e-4a74-9acd-d4fb76132927",
   "metadata": {},
   "source": [
    "### By-Group Measures\n",
    "Then we will compute the same measures by each group (i.e., male and female) and see if there are any differences. "
   ]
  },
  {
   "cell_type": "code",
   "execution_count": 15,
   "id": "231858f7-6962-4722-8e39-73b47e3979b6",
   "metadata": {},
   "outputs": [
    {
     "data": {
      "text/plain": [
       "(0.7848350566223535, 0.8445692883895131)"
      ]
     },
     "execution_count": 15,
     "metadata": {},
     "output_type": "execute_result"
    }
   ],
   "source": [
    "male = group_test == 1\n",
    "female = group_test == 2\n",
    "\n",
    "correct = (y_test == y_pred)\n",
    "\n",
    "accuracy_male = correct[male].mean()\n",
    "accuracy_female = correct[female].mean()\n",
    "\n",
    "accuracy_male, accuracy_female"
   ]
  },
  {
   "cell_type": "markdown",
   "id": "0ef1585a-3b64-4168-ab01-73ad5ab6119d",
   "metadata": {},
   "source": [
    "The accuracy for male and female is similar, and a little higher for female. "
   ]
  },
  {
   "cell_type": "code",
   "execution_count": 16,
   "id": "94c56dd2-0338-425c-b53c-acac09fa781a",
   "metadata": {},
   "outputs": [
    {
     "data": {
      "text/plain": [
       "(0.9251758428328887, 0.9108901332303534)"
      ]
     },
     "execution_count": 16,
     "metadata": {},
     "output_type": "execute_result"
    }
   ],
   "source": [
    "#X_test_df = pd.DataFrame(X_test, columns = [features_to_use])\n",
    "cm_male = confusion_matrix(y_test[male],y_pred[male])\n",
    "cm_female = confusion_matrix(y_test[female],y_pred[female])\n",
    "\n",
    "# male\n",
    "TP, FP, FN, TN = cm_male[0][0], cm_male[0][1], cm_male[1][0], cm_male[1][1]\n",
    "PPV_male = TP / (TP + FP)\n",
    "FNR_male = FN / (TP + FN)\n",
    "FPR_male = FP / (TN + FP)\n",
    "\n",
    "# female\n",
    "TP, FP, FN, TN = cm_female[0][0], cm_female[0][1], cm_female[1][0], cm_female[1][1]\n",
    "PPV_female = TP / (TP + FP)\n",
    "FNR_female = FN / (TP + FN)\n",
    "FPR_female = FP / (TN + FP)\n",
    "\n",
    "PPV_male, PPV_female"
   ]
  },
  {
   "cell_type": "markdown",
   "id": "d4618d6c-e891-4ab3-9e7a-ba60fe560b65",
   "metadata": {},
   "source": [
    "The PPV for male and female is similar too. "
   ]
  },
  {
   "cell_type": "code",
   "execution_count": 17,
   "id": "17251daf-b017-443a-8fa7-1c20e3603dfc",
   "metadata": {},
   "outputs": [
    {
     "data": {
      "text/plain": [
       "(0.20811708532281503, 0.10177075399847677)"
      ]
     },
     "execution_count": 17,
     "metadata": {},
     "output_type": "execute_result"
    }
   ],
   "source": [
    "FNR_male, FNR_female"
   ]
  },
  {
   "cell_type": "markdown",
   "id": "451f918b-96ec-4820-8eb4-59d562bc9dd1",
   "metadata": {},
   "source": [
    "The false negative rate is higher for male than for female. This shows that if a man earns more than $50K, the model is more likely to make a mistake and say he earns less, compared to the same situation for a woman. "
   ]
  },
  {
   "cell_type": "code",
   "execution_count": 18,
   "id": "078ef339-6d7a-4b61-b28c-94dda698a07f",
   "metadata": {},
   "outputs": [
    {
     "data": {
      "text/plain": [
       "(0.24177115987460815, 0.3992214532871972)"
      ]
     },
     "execution_count": 18,
     "metadata": {},
     "output_type": "execute_result"
    }
   ],
   "source": [
    "FPR_male, FPR_female"
   ]
  },
  {
   "cell_type": "markdown",
   "id": "25d05ba2-d677-46ff-96c8-a68e74ccb5ff",
   "metadata": {},
   "source": [
    "The false positive rate is higher for female than for male. This means that the model is more likely to predict that a woman earns more than $50K when she actually earns less. "
   ]
  },
  {
   "cell_type": "markdown",
   "id": "ad153ad2-1cbe-4753-96e5-22f61b8ebc68",
   "metadata": {},
   "source": [
    "### Bias Measures\n",
    "Finally, we will calculate the three different bias measures discussed by Chouldechova (2017). "
   ]
  },
  {
   "cell_type": "markdown",
   "id": "0c8e5549-a8c9-4a7b-b676-6ab0603b6a26",
   "metadata": {},
   "source": [
    "The first measure is **calibration**. Good calibration means that a man and a woman who received the same score (in this case, either 0 or 1) have the same probability of earning over $50K. "
   ]
  },
  {
   "cell_type": "code",
   "execution_count": 19,
   "id": "88667267-92e6-49d1-a60d-1b329fd34fd6",
   "metadata": {},
   "outputs": [
    {
     "name": "stdout",
     "output_type": "stream",
     "text": [
      "% positive for male predicted positive =  0.7582288401253918\n",
      "% positive for female predicted positive =  0.6007785467128027\n",
      "% positive for male predicted negative =  0.20811708532281503\n",
      "% positive for female predicted negative =  0.10177075399847677\n"
     ]
    }
   ],
   "source": [
    "# Calibration\n",
    "print(\"% positive for male predicted positive = \", y_test[male][y_pred[male] == 1].mean())\n",
    "print(\"% positive for female predicted positive = \", y_test[female][y_pred[female] == 1].mean())\n",
    "print(\"% positive for male predicted negative = \", y_test[male][y_pred[male] == 0].mean())\n",
    "print(\"% positive for female predicted negative = \", y_test[female][y_pred[female] == 0].mean())"
   ]
  },
  {
   "cell_type": "markdown",
   "id": "8476b47b-e43c-4219-953b-9b78f56d1703",
   "metadata": {},
   "source": [
    "The probabilities are around 0.1-0.15 higher for men than for women. It looks like the model is roughly calibrated, but still, there is a slight difference in what the same score means for the two groups. "
   ]
  },
  {
   "cell_type": "markdown",
   "id": "95ffc71b-3ff2-44b0-91ba-90a0e83ea30d",
   "metadata": {},
   "source": [
    "Next we will look at **error rate balance**. According to Chouldechova (2017), a score satisfies error rate balance at a threshold $S_{HR}$ if the FPR and FNR are both equal across groups. Because our model only have binary scores, this would just mean that the FPR and FNR are equal across gender. "
   ]
  },
  {
   "cell_type": "code",
   "execution_count": 21,
   "id": "a1f0ff6b-10f6-456d-a745-39efeb914a5e",
   "metadata": {},
   "outputs": [
    {
     "data": {
      "text/plain": [
       "(0.24177115987460815, 0.3992214532871972)"
      ]
     },
     "execution_count": 21,
     "metadata": {},
     "output_type": "execute_result"
    }
   ],
   "source": [
    "FPR_male, FPR_female"
   ]
  },
  {
   "cell_type": "code",
   "execution_count": 20,
   "id": "75073546-f391-4168-934e-0a4a5188ad7c",
   "metadata": {},
   "outputs": [
    {
     "data": {
      "text/plain": [
       "(0.20811708532281503, 0.10177075399847677)"
      ]
     },
     "execution_count": 20,
     "metadata": {},
     "output_type": "execute_result"
    }
   ],
   "source": [
    "FNR_male, FNR_female"
   ]
  },
  {
   "cell_type": "markdown",
   "id": "1b3927b3-8ab1-421f-bc41-5edd3df17023",
   "metadata": {},
   "source": [
    "From the FPR and FNR that we calculated in the last section, we can see that the model doesn't have error rate balance. The FPR is higher for women and the FNR is higher for men. "
   ]
  },
  {
   "cell_type": "markdown",
   "id": "cfe835c3-1382-4e46-bd79-09514d2f6720",
   "metadata": {},
   "source": [
    "Our last measure is **statistical parity**. This is satisfied if the proportion of individuals classified as positive is the same for each group."
   ]
  },
  {
   "cell_type": "code",
   "execution_count": 22,
   "id": "892d4ce2-2f8a-4373-9332-b9897ee60b4d",
   "metadata": {},
   "outputs": [
    {
     "data": {
      "text/plain": [
       "(0.6766781552601345, 0.8082084893882646)"
      ]
     },
     "execution_count": 22,
     "metadata": {},
     "output_type": "execute_result"
    }
   ],
   "source": [
    "TP, FP, FN, TN = cm_male[0][0], cm_male[0][1], cm_male[1][0], cm_male[1][1]\n",
    "PR_male = (TP+FP) / (TP+FP+TN+FN)\n",
    "TP, FP, FN, TN = cm_female[0][0], cm_female[0][1], cm_female[1][0], cm_female[1][1]\n",
    "PR_female = (TP+FP) / (TP+FP+TN+FN)\n",
    "\n",
    "PR_male, PR_female"
   ]
  },
  {
   "cell_type": "markdown",
   "id": "491055c8-a52a-45de-ad29-d53c38ce4aa1",
   "metadata": {},
   "source": [
    "This model doesn't have statistical parity -- the proportion of women classified as earning over $50K is higher than that of men. "
   ]
  },
  {
   "cell_type": "markdown",
   "id": "75ad2367-a819-4e29-8879-dd0b977ed44f",
   "metadata": {},
   "source": [
    "## Concluding Discussion\n",
    "With a system like what I have built in this blogpost, companies will be able to identify high-income individuals based on a set of demographics data. This would especially benefit companies that sell high-end products by enabling them to locate their target group of consumers. \n",
    "\n",
    "The main takeaway from my bias audit is that this model tends to overestimate the income of a woman and underestimate the income of a man. If the model is deployed in a large-scale setting, it would mean that more women will be incorrectly identified as marketing targets for certain products. Moreover, in the case that companies make use of predicted income for discriminatory pricing across income groups, more women will be harmed by this act. \n",
    "\n",
    "I think that this model exhibits bias in all forms that I have measured. In terms of calibration, men who received positive labels were more likely to be positive than women who received positive labels. Looking at the error rates, we also see that false positive rates are higher for women and false negative rates are higher for men. For statistical parity, we see a similar pattern where higher proportions of women than men were classified as positive. All of these measures reflect more or less the same theme. \n",
    "\n",
    "I find it interesting and unsettling that just like the recidivism prediction model that we discussed in class, the bias of this model is also potentially an artifact of inequalities present in the real world. Given a man and a woman who are similar in features other than sex, the model would predict that they have similar levels of income. In reality, however, women with similar qualifications as men are often paid less as a result of structural discrimination that is not captured by the dataset. This explains why the model tends to classify women as earning more than they do in reality. \n",
    "\n",
    "Another problem beyond bias is that whether it is ethical at all to use any model that predicts income. Even if the model is accurate and relatively unbiased, it is hard to see how such a model would benefit the individuals upon which it is used. The government may need income information for social welfare programs, but it doesn't need to use a model to acquire such information. As for companies, I would imagine that the main motivation for predicting income is to maximize profit by discriminately charging income groups. "
   ]
  }
 ],
 "metadata": {
  "kernelspec": {
   "display_name": "Python 3 (ipykernel)",
   "language": "python",
   "name": "python3"
  },
  "language_info": {
   "codemirror_mode": {
    "name": "ipython",
    "version": 3
   },
   "file_extension": ".py",
   "mimetype": "text/x-python",
   "name": "python",
   "nbconvert_exporter": "python",
   "pygments_lexer": "ipython3",
   "version": "3.9.16"
  }
 },
 "nbformat": 4,
 "nbformat_minor": 5
}
