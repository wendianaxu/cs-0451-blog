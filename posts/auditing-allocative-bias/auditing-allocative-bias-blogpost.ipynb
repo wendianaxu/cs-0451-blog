{
 "cells": [
  {
   "cell_type": "raw",
   "id": "f264279c-cced-42ce-9504-e217a02b68e6",
   "metadata": {},
   "source": [
    "---\n",
    "title: \"Auditing Allocative Bias\"\n",
    "date: 2023-03-29\n",
    "description: |\n",
    "    Creating a machine learning model to predict an individual characteristic based on demographic variables and performing a bias audit on the model. \n",
    "publish: \"true\"\n",
    "---"
   ]
  },
  {
   "cell_type": "markdown",
   "id": "f9538604-9a37-4e63-b1c7-760333d4fee8",
   "metadata": {},
   "source": [
    "# Auditing Allocative Bias\n",
    "In this blogpost, I will train a model to predict income based on demographic variables *excluding* sex, and perform audit for gender bias on the model."
   ]
  },
  {
   "cell_type": "markdown",
   "id": "dc9b8fe2-6bc1-48b3-bdbc-7b2a8f9800a1",
   "metadata": {},
   "source": [
    "## Data Preparation\n",
    "The data I choose to look into is the PUMS data in for Illinois in 2019. "
   ]
  },
  {
   "cell_type": "code",
   "execution_count": 1,
   "id": "43c60b27-6ac3-4d89-aba7-cbdd51141fb1",
   "metadata": {},
   "outputs": [
    {
     "data": {
      "text/html": [
       "<div>\n",
       "<style scoped>\n",
       "    .dataframe tbody tr th:only-of-type {\n",
       "        vertical-align: middle;\n",
       "    }\n",
       "\n",
       "    .dataframe tbody tr th {\n",
       "        vertical-align: top;\n",
       "    }\n",
       "\n",
       "    .dataframe thead th {\n",
       "        text-align: right;\n",
       "    }\n",
       "</style>\n",
       "<table border=\"1\" class=\"dataframe\">\n",
       "  <thead>\n",
       "    <tr style=\"text-align: right;\">\n",
       "      <th></th>\n",
       "      <th>AGEP</th>\n",
       "      <th>SCHL</th>\n",
       "      <th>MAR</th>\n",
       "      <th>DIS</th>\n",
       "      <th>ESP</th>\n",
       "      <th>CIT</th>\n",
       "      <th>MIG</th>\n",
       "      <th>MIL</th>\n",
       "      <th>ANC</th>\n",
       "      <th>NATIVITY</th>\n",
       "      <th>DEAR</th>\n",
       "      <th>DEYE</th>\n",
       "      <th>DREM</th>\n",
       "      <th>SEX</th>\n",
       "      <th>RAC1P</th>\n",
       "      <th>ESR</th>\n",
       "      <th>PINCP</th>\n",
       "    </tr>\n",
       "  </thead>\n",
       "  <tbody>\n",
       "    <tr>\n",
       "      <th>0</th>\n",
       "      <td>19</td>\n",
       "      <td>19.0</td>\n",
       "      <td>5</td>\n",
       "      <td>2</td>\n",
       "      <td>NaN</td>\n",
       "      <td>1</td>\n",
       "      <td>1.0</td>\n",
       "      <td>4.0</td>\n",
       "      <td>1</td>\n",
       "      <td>1</td>\n",
       "      <td>2</td>\n",
       "      <td>2</td>\n",
       "      <td>2.0</td>\n",
       "      <td>2</td>\n",
       "      <td>1</td>\n",
       "      <td>6.0</td>\n",
       "      <td>0.0</td>\n",
       "    </tr>\n",
       "    <tr>\n",
       "      <th>1</th>\n",
       "      <td>18</td>\n",
       "      <td>18.0</td>\n",
       "      <td>5</td>\n",
       "      <td>2</td>\n",
       "      <td>NaN</td>\n",
       "      <td>1</td>\n",
       "      <td>3.0</td>\n",
       "      <td>4.0</td>\n",
       "      <td>4</td>\n",
       "      <td>1</td>\n",
       "      <td>2</td>\n",
       "      <td>2</td>\n",
       "      <td>2.0</td>\n",
       "      <td>2</td>\n",
       "      <td>1</td>\n",
       "      <td>6.0</td>\n",
       "      <td>800.0</td>\n",
       "    </tr>\n",
       "    <tr>\n",
       "      <th>2</th>\n",
       "      <td>22</td>\n",
       "      <td>16.0</td>\n",
       "      <td>5</td>\n",
       "      <td>2</td>\n",
       "      <td>NaN</td>\n",
       "      <td>1</td>\n",
       "      <td>3.0</td>\n",
       "      <td>1.0</td>\n",
       "      <td>2</td>\n",
       "      <td>1</td>\n",
       "      <td>2</td>\n",
       "      <td>2</td>\n",
       "      <td>2.0</td>\n",
       "      <td>1</td>\n",
       "      <td>1</td>\n",
       "      <td>4.0</td>\n",
       "      <td>35000.0</td>\n",
       "    </tr>\n",
       "    <tr>\n",
       "      <th>3</th>\n",
       "      <td>64</td>\n",
       "      <td>16.0</td>\n",
       "      <td>5</td>\n",
       "      <td>2</td>\n",
       "      <td>NaN</td>\n",
       "      <td>1</td>\n",
       "      <td>1.0</td>\n",
       "      <td>4.0</td>\n",
       "      <td>1</td>\n",
       "      <td>1</td>\n",
       "      <td>2</td>\n",
       "      <td>2</td>\n",
       "      <td>2.0</td>\n",
       "      <td>2</td>\n",
       "      <td>1</td>\n",
       "      <td>6.0</td>\n",
       "      <td>0.0</td>\n",
       "    </tr>\n",
       "    <tr>\n",
       "      <th>4</th>\n",
       "      <td>53</td>\n",
       "      <td>16.0</td>\n",
       "      <td>5</td>\n",
       "      <td>2</td>\n",
       "      <td>NaN</td>\n",
       "      <td>5</td>\n",
       "      <td>1.0</td>\n",
       "      <td>4.0</td>\n",
       "      <td>1</td>\n",
       "      <td>2</td>\n",
       "      <td>2</td>\n",
       "      <td>2</td>\n",
       "      <td>2.0</td>\n",
       "      <td>1</td>\n",
       "      <td>1</td>\n",
       "      <td>1.0</td>\n",
       "      <td>31200.0</td>\n",
       "    </tr>\n",
       "  </tbody>\n",
       "</table>\n",
       "</div>"
      ],
      "text/plain": [
       "   AGEP  SCHL  MAR  DIS  ESP  CIT  MIG  MIL  ANC  NATIVITY  DEAR  DEYE  DREM  \\\n",
       "0    19  19.0    5    2  NaN    1  1.0  4.0    1         1     2     2   2.0   \n",
       "1    18  18.0    5    2  NaN    1  3.0  4.0    4         1     2     2   2.0   \n",
       "2    22  16.0    5    2  NaN    1  3.0  1.0    2         1     2     2   2.0   \n",
       "3    64  16.0    5    2  NaN    1  1.0  4.0    1         1     2     2   2.0   \n",
       "4    53  16.0    5    2  NaN    5  1.0  4.0    1         2     2     2   2.0   \n",
       "\n",
       "   SEX  RAC1P  ESR    PINCP  \n",
       "0    2      1  6.0      0.0  \n",
       "1    2      1  6.0    800.0  \n",
       "2    1      1  4.0  35000.0  \n",
       "3    2      1  6.0      0.0  \n",
       "4    1      1  1.0  31200.0  "
      ]
     },
     "execution_count": 1,
     "metadata": {},
     "output_type": "execute_result"
    }
   ],
   "source": [
    "from folktables import ACSDataSource, ACSEmployment, BasicProblem, adult_filter\n",
    "import numpy as np\n",
    "\n",
    "STATE = \"IL\"\n",
    "\n",
    "data_source = ACSDataSource(survey_year='2019', \n",
    "                            horizon='1-Year', \n",
    "                            survey='person')\n",
    "\n",
    "acs_data = data_source.get_data(states=[STATE], download=True)\n",
    "possible_features=['AGEP', 'SCHL', 'MAR', 'DIS', 'ESP', 'CIT', 'MIG', 'MIL', 'ANC', 'NATIVITY', 'DEAR', 'DEYE', 'DREM', 'SEX', 'RAC1P', 'ESR', \"PINCP\"]\n",
    "acs_data[possible_features].head()"
   ]
  },
  {
   "cell_type": "markdown",
   "id": "6f27448d-2121-4bef-993a-4e2cca5c9d47",
   "metadata": {},
   "source": [
    "I would like to predict whether an individual's income is over $50K based on all the variables in <code>possible_features</code> except for sex. I will create a feature matrix, a label vector, and a group label vector using the relevant variables, and split them into training data and test data."
   ]
  },
  {
   "cell_type": "code",
   "execution_count": 2,
   "id": "0d2884c0-d84c-4a04-8ace-1b70ca2313ac",
   "metadata": {},
   "outputs": [],
   "source": [
    "features_to_use = [f for f in possible_features if f not in [\"PINCP\", \"SEX\"]]\n",
    "\n",
    "IncomeProblem = BasicProblem(\n",
    "    features=features_to_use,\n",
    "    target='PINCP',\n",
    "    target_transform=lambda x: (x > 50000) * 1, # transform income variable into binary category\n",
    "    group='SEX',\n",
    "    preprocess=lambda x: x,\n",
    "    postprocess=lambda x: np.nan_to_num(x, -1),\n",
    ")\n",
    "\n",
    "features, label, group = IncomeProblem.df_to_numpy(acs_data)\n",
    "\n",
    "# train-test split\n",
    "from sklearn.model_selection import train_test_split\n",
    "X_train, X_test, y_train, y_test, group_train, group_test = train_test_split(\n",
    "    features, label, group, test_size=0.2, random_state=0)"
   ]
  },
  {
   "cell_type": "markdown",
   "id": "a5c33d2a-e87d-43ef-b7ef-dfa2f7a3d2d7",
   "metadata": {},
   "source": [
    "### Basic Descriptives\n",
    "Before training any models, I will first explore the basic descriptives of the dataset. "
   ]
  },
  {
   "cell_type": "code",
   "execution_count": 28,
   "id": "1457e7c2-bc6b-4e88-ab00-83d38f2d5b80",
   "metadata": {},
   "outputs": [],
   "source": [
    "import pandas as pd\n",
    "df = pd.DataFrame(X_train, columns = features_to_use)\n",
    "df[\"group\"] = group_train\n",
    "df[\"label\"] = y_train"
   ]
  },
  {
   "cell_type": "code",
   "execution_count": 4,
   "id": "457c1acd-fa2c-41d3-b628-d5b4b8b7b738",
   "metadata": {},
   "outputs": [
    {
     "data": {
      "text/plain": [
       "100005"
      ]
     },
     "execution_count": 4,
     "metadata": {},
     "output_type": "execute_result"
    }
   ],
   "source": [
    "size = len(df)\n",
    "size"
   ]
  },
  {
   "cell_type": "markdown",
   "id": "1e290905-00f8-44f2-a599-6f26970fc69d",
   "metadata": {},
   "source": [
    "There are 100005 individuals in the dataset. "
   ]
  },
  {
   "cell_type": "code",
   "execution_count": 5,
   "id": "b77df336-63b1-420f-8735-dee0eca96002",
   "metadata": {},
   "outputs": [
    {
     "data": {
      "text/plain": [
       "0.25900704964751764"
      ]
     },
     "execution_count": 5,
     "metadata": {},
     "output_type": "execute_result"
    }
   ],
   "source": [
    "(df[\"label\"] == 1).sum()/size"
   ]
  },
  {
   "cell_type": "markdown",
   "id": "36450bcf-1427-48f9-9a8f-45150551c0ae",
   "metadata": {},
   "source": [
    "Around 25.9% of these individuals earn over $50K. "
   ]
  },
  {
   "cell_type": "code",
   "execution_count": 6,
   "id": "c1575983-e67b-45d1-9a72-f6380a501c4c",
   "metadata": {},
   "outputs": [
    {
     "data": {
      "text/plain": [
       "group\n",
       "1    49135\n",
       "2    50870\n",
       "dtype: int64"
      ]
     },
     "execution_count": 6,
     "metadata": {},
     "output_type": "execute_result"
    }
   ],
   "source": [
    "df.groupby(\"group\").size()"
   ]
  },
  {
   "cell_type": "markdown",
   "id": "eb9824e2-6893-4399-8772-a6dfa25792fd",
   "metadata": {},
   "source": [
    "49,135 of these individuals are male and 50,870 are female."
   ]
  },
  {
   "cell_type": "code",
   "execution_count": 7,
   "id": "01e930b4-6d38-4cda-afd5-c070c0f650da",
   "metadata": {},
   "outputs": [
    {
     "data": {
      "text/html": [
       "<div>\n",
       "<style scoped>\n",
       "    .dataframe tbody tr th:only-of-type {\n",
       "        vertical-align: middle;\n",
       "    }\n",
       "\n",
       "    .dataframe tbody tr th {\n",
       "        vertical-align: top;\n",
       "    }\n",
       "\n",
       "    .dataframe thead th {\n",
       "        text-align: right;\n",
       "    }\n",
       "</style>\n",
       "<table border=\"1\" class=\"dataframe\">\n",
       "  <thead>\n",
       "    <tr style=\"text-align: right;\">\n",
       "      <th></th>\n",
       "      <th>group</th>\n",
       "      <th>label</th>\n",
       "    </tr>\n",
       "  </thead>\n",
       "  <tbody>\n",
       "    <tr>\n",
       "      <th>0</th>\n",
       "      <td>1</td>\n",
       "      <td>0.326712</td>\n",
       "    </tr>\n",
       "    <tr>\n",
       "      <th>1</th>\n",
       "      <td>2</td>\n",
       "      <td>0.193611</td>\n",
       "    </tr>\n",
       "  </tbody>\n",
       "</table>\n",
       "</div>"
      ],
      "text/plain": [
       "   group     label\n",
       "0      1  0.326712\n",
       "1      2  0.193611"
      ]
     },
     "execution_count": 7,
     "metadata": {},
     "output_type": "execute_result"
    }
   ],
   "source": [
    "df.groupby(\"group\")[\"label\"].mean().reset_index()\n"
   ]
  },
  {
   "cell_type": "markdown",
   "id": "46f17659-5907-463c-bb26-cdade644166b",
   "metadata": {},
   "source": [
    "Around 32.7% of male individuals in the dataset has income over 50k dollars, but only 19.4% of women has income over $50k. "
   ]
  },
  {
   "cell_type": "code",
   "execution_count": 8,
   "id": "ac5fc35b-5b2e-4aec-8ca8-a6fe6882d461",
   "metadata": {},
   "outputs": [
    {
     "data": {
      "image/png": "[encoded data removed]",
      "text/plain": [
       "<Figure size 640x480 with 1 Axes>"
      ]
     },
     "metadata": {},
     "output_type": "display_data"
    }
   ],
   "source": [
    "import seaborn as sns\n",
    "proportions = df.groupby([\"group\", \"RAC1P\"])[\"label\"].mean().reset_index()\n",
    "ax = sns.barplot(data = proportions, x = \"RAC1P\", y = \"label\", hue = \"group\")"
   ]
  },
  {
   "cell_type": "markdown",
   "id": "9c978996-4eca-4c5a-8b36-d99dc52ed092",
   "metadata": {},
   "source": [
    "It seems that for almost all race groups, the proportion of men with income over $50k is greater than that of women. The only exception is African Americans, for whom this proportion doesn't differ very much across sex. "
   ]
  },
  {
   "cell_type": "markdown",
   "id": "f71bfdc6-9936-49cf-924c-65b4835585c7",
   "metadata": {},
   "source": [
    "## Training the model\n",
    "I choose to use a decision tree classifier for my prediction. I will use cross-validation to find out the best max depth for the model. "
   ]
  },
  {
   "cell_type": "code",
   "execution_count": 16,
   "id": "37ad8ff6-43be-4b25-bd59-9945643a39fc",
   "metadata": {},
   "outputs": [
    {
     "name": "stdout",
     "output_type": "stream",
     "text": [
      "Best cv score =  0.8123893805309734\n",
      "Best max depth =  8\n"
     ]
    },
    {
     "data": {
      "image/png": "[encoded data removed]",
      "text/plain": [
       "<Figure size 640x480 with 1 Axes>"
      ]
     },
     "metadata": {},
     "output_type": "display_data"
    }
   ],
   "source": [
    "from sklearn.tree import DecisionTreeClassifier\n",
    "from sklearn.model_selection import cross_val_score\n",
    "\n",
    "cv_max = 0\n",
    "best_depth = 0\n",
    "cvs = []\n",
    "\n",
    "for d in range(2, 30):\n",
    "    # fit model\n",
    "    DTC = DecisionTreeClassifier(max_depth = d)\n",
    "    DTC.fit(X_train, y_train)\n",
    "\n",
    "    # cross-validation\n",
    "    cv_scores = cross_val_score(DTC, X_train, y_train, cv = 5)\n",
    "    cv_mean = cv_scores.mean()\n",
    "    cvs.append(cv_mean)\n",
    "\n",
    "    # update best cv score and best degree\n",
    "    if cv_mean > cv_max:\n",
    "        cv_max = cv_mean\n",
    "        best_depth = d\n",
    "\n",
    "print(\"Best cv score = \", cv_max)\n",
    "print(\"Best max depth = \", best_depth)\n",
    "\n",
    "# draw a line chart for cv scores at varying degrees\n",
    "import matplotlib.pyplot as plt\n",
    "fig = plt.plot(range(2, 30), cvs)\n",
    "xlab = plt.xlabel(\"Max depth\")\n",
    "ylab = plt.ylabel(\"CV score\")"
   ]
  },
  {
   "cell_type": "markdown",
   "id": "a5b70964-5398-4a53-ac5a-cd11fe01b3d6",
   "metadata": {},
   "source": [
    "As shown by the graph, the best performance is reached at a max depth of 8. "
   ]
  },
  {
   "cell_type": "markdown",
   "id": "4afaa5f4-96a1-4e1b-b2fd-16de9d01617e",
   "metadata": {},
   "source": [
    "## Auditing the Model\n",
    "Next, I will use the model on the test data and perform an audit for bias."
   ]
  },
  {
   "cell_type": "code",
   "execution_count": 22,
   "id": "e0291679-5a68-4939-a4cb-7183621e818e",
   "metadata": {},
   "outputs": [],
   "source": [
    "# train model and predict using test data\n",
    "DTC = DecisionTreeClassifier(max_depth = best_depth)\n",
    "DTC.fit(X_train, y_train)\n",
    "y_pred = DTC.predict(X_test)"
   ]
  },
  {
   "cell_type": "markdown",
   "id": "92c70bd8-543f-4749-9706-224a51d67e7e",
   "metadata": {},
   "source": [
    "### Overall Measures\n",
    "First, we will take a look at the measures for the whole dataset. "
   ]
  },
  {
   "cell_type": "code",
   "execution_count": 25,
   "id": "17f9940a-fe3a-402d-b7ba-def505e91afd",
   "metadata": {},
   "outputs": [
    {
     "name": "stdout",
     "output_type": "stream",
     "text": [
      "Overall accuracy =  0.8155747540196784\n",
      "PPV =  0.9173833584175446\n",
      "FNR =  0.15262400079439947\n",
      "FPR =  0.316190084344785\n"
     ]
    }
   ],
   "source": [
    "from sklearn.metrics import confusion_matrix\n",
    "\n",
    "# get confusion matrix values\n",
    "cm = confusion_matrix(y_test, y_pred)\n",
    "TP, FP, FN, TN = cm[0][0], cm[0][1], cm[1][0], cm[1][1]\n",
    "\n",
    "test_score = DTC.score(X_test, y_test)\n",
    "PPV = TP / (TP + FP)\n",
    "FNR = FN / (TP + FN)\n",
    "FPR = FP / (TN + FP)\n",
    "\n",
    "print(\"Overall accuracy = \", test_score)\n",
    "print(\"PPV = \", PPV)\n",
    "print(\"FNR = \", FNR)\n",
    "print(\"FPR = \", FPR)"
   ]
  },
  {
   "cell_type": "markdown",
   "id": "0b25ed06-d431-4606-a835-8ca65d0f1fff",
   "metadata": {},
   "source": [
    "The overall accuracy and PPV show that the model is quite accurate. The FPR is one time higher than the FPR, suggesting that this model is more likely to wrongly predict that someone earns over $50K when they does not in reality, compared to wrongly predict that someone earns less than 50K. "
   ]
  },
  {
   "cell_type": "markdown",
   "id": "b04ed304-702e-4a74-9acd-d4fb76132927",
   "metadata": {},
   "source": [
    "### By-Group Measures\n",
    "Then we will compute the same measures by each group (i.e., male and female) and see if there are any differences. "
   ]
  },
  {
   "cell_type": "code",
   "execution_count": 32,
   "id": "231858f7-6962-4722-8e39-73b47e3979b6",
   "metadata": {},
   "outputs": [
    {
     "data": {
      "text/plain": [
       "(0.7849171180042672, 0.8447253433208489)"
      ]
     },
     "execution_count": 32,
     "metadata": {},
     "output_type": "execute_result"
    }
   ],
   "source": [
    "male = group_test == 1\n",
    "female = group_test == 2\n",
    "\n",
    "correct = (y_test == y_pred)\n",
    "\n",
    "accuracy_male = correct[male].mean()\n",
    "accuracy_female = correct[female].mean()\n",
    "\n",
    "accuracy_male, accuracy_female"
   ]
  },
  {
   "cell_type": "markdown",
   "id": "0ef1585a-3b64-4168-ab01-73ad5ab6119d",
   "metadata": {},
   "source": [
    "The accuracy for male and female is similar, and a little higher for female. "
   ]
  },
  {
   "cell_type": "code",
   "execution_count": 34,
   "id": "94c56dd2-0338-425c-b53c-acac09fa781a",
   "metadata": {},
   "outputs": [
    {
     "data": {
      "text/plain": [
       "(0.9252971137521222, 0.9110832206989766)"
      ]
     },
     "execution_count": 34,
     "metadata": {},
     "output_type": "execute_result"
    }
   ],
   "source": [
    "#X_test_df = pd.DataFrame(X_test, columns = [features_to_use])\n",
    "cm_male = confusion_matrix(y_test[male],y_pred[male])\n",
    "cm_female = confusion_matrix(y_test[female],y_pred[female])\n",
    "\n",
    "# male\n",
    "TP, FP, FN, TN = cm_male[0][0], cm_male[0][1], cm_male[1][0], cm_male[1][1]\n",
    "PPV_male = TP / (TP + FP)\n",
    "FNR_male = FN / (TP + FN)\n",
    "FPR_male = FP / (TN + FP)\n",
    "\n",
    "# female\n",
    "TP, FP, FN, TN = cm_female[0][0], cm_female[0][1], cm_female[1][0], cm_female[1][1]\n",
    "PPV_female = TP / (TP + FP)\n",
    "FNR_female = FN / (TP + FN)\n",
    "FPR_female = FP / (TN + FP)\n",
    "\n",
    "PPV_male, PPV_female"
   ]
  },
  {
   "cell_type": "markdown",
   "id": "d4618d6c-e891-4ab3-9e7a-ba60fe560b65",
   "metadata": {},
   "source": [
    "The PPV for male and female is similar too. "
   ]
  },
  {
   "cell_type": "code",
   "execution_count": 35,
   "id": "17251daf-b017-443a-8fa7-1c20e3603dfc",
   "metadata": {},
   "outputs": [
    {
     "data": {
      "text/plain": [
       "(0.20809548521017124, 0.10175138016371597)"
      ]
     },
     "execution_count": 35,
     "metadata": {},
     "output_type": "execute_result"
    }
   ],
   "source": [
    "FNR_male, FNR_female"
   ]
  },
  {
   "cell_type": "markdown",
   "id": "451f918b-96ec-4820-8eb4-59d562bc9dd1",
   "metadata": {},
   "source": [
    "The false negative rate is higher for male than for female. This shows that if a man earns more than $50K, the model is more likely to make a mistake and say he earns less, compared to the same situation for a woman. "
   ]
  },
  {
   "cell_type": "code",
   "execution_count": 36,
   "id": "078ef339-6d7a-4b61-b28c-94dda698a07f",
   "metadata": {},
   "outputs": [
    {
     "data": {
      "text/plain": [
       "(0.24147393179145432, 0.3987012987012987)"
      ]
     },
     "execution_count": 36,
     "metadata": {},
     "output_type": "execute_result"
    }
   ],
   "source": [
    "FPR_male, FPR_female"
   ]
  },
  {
   "cell_type": "markdown",
   "id": "25d05ba2-d677-46ff-96c8-a68e74ccb5ff",
   "metadata": {},
   "source": [
    "The false positive rate is higher for female than for male. This means that the model is more likely to predict that a woman earns more than $50K when she actually earns less. "
   ]
  },
  {
   "cell_type": "markdown",
   "id": "ad153ad2-1cbe-4753-96e5-22f61b8ebc68",
   "metadata": {},
   "source": [
    "### Bias Measures\n",
    "Finally, we will calculate the three different bias measures discussed by Chouldechova (2017). "
   ]
  },
  {
   "cell_type": "markdown",
   "id": "0c8e5549-a8c9-4a7b-b676-6ab0603b6a26",
   "metadata": {},
   "source": [
    "The first measure is calibration. Good calibration means that a man and a woman who received the same score (in this case, either 0 or 1) have the same probability of earning over $50K. "
   ]
  },
  {
   "cell_type": "code",
   "execution_count": 44,
   "id": "88667267-92e6-49d1-a60d-1b329fd34fd6",
   "metadata": {},
   "outputs": [
    {
     "name": "stdout",
     "output_type": "stream",
     "text": [
      "% positive for male predicted positive =  0.7585260682085456\n",
      "% positive for female predicted positive =  0.6012987012987013\n",
      "% positive for male predicted negative =  0.20809548521017124\n",
      "% positive for female predicted negative =  0.10175138016371597\n"
     ]
    }
   ],
   "source": [
    "# Calibration\n",
    "print(\"% positive for male predicted positive = \", y_test[male][y_pred[male] == 1].mean())\n",
    "print(\"% positive for female predicted positive = \", y_test[female][y_pred[female] == 1].mean())\n",
    "print(\"% positive for male predicted negative = \", y_test[male][y_pred[male] == 0].mean())\n",
    "print(\"% positive for female predicted negative = \", y_test[female][y_pred[female] == 0].mean())"
   ]
  },
  {
   "cell_type": "markdown",
   "id": "8476b47b-e43c-4219-953b-9b78f56d1703",
   "metadata": {},
   "source": [
    "The probabilities are around 0.1-0.15 higher for men than for women. It looks like the model is roughly calibrated, but still, there is a slight difference in what the same score means for the two groups. "
   ]
  },
  {
   "cell_type": "markdown",
   "id": "75ad2367-a819-4e29-8879-dd0b977ed44f",
   "metadata": {},
   "source": [
    "## Bikeshare data set\n",
    "In this section, I train my linear regression model to a bikeshare data set."
   ]
  },
  {
   "cell_type": "code",
   "execution_count": 16,
   "id": "b9abe5d9-aca5-42c4-8516-a95840e9f94f",
   "metadata": {},
   "outputs": [
    {
     "data": {
      "text/html": [
       "<div>\n",
       "<style scoped>\n",
       "    .dataframe tbody tr th:only-of-type {\n",
       "        vertical-align: middle;\n",
       "    }\n",
       "\n",
       "    .dataframe tbody tr th {\n",
       "        vertical-align: top;\n",
       "    }\n",
       "\n",
       "    .dataframe thead th {\n",
       "        text-align: right;\n",
       "    }\n",
       "</style>\n",
       "<table border=\"1\" class=\"dataframe\">\n",
       "  <thead>\n",
       "    <tr style=\"text-align: right;\">\n",
       "      <th></th>\n",
       "      <th>instant</th>\n",
       "      <th>dteday</th>\n",
       "      <th>season</th>\n",
       "      <th>yr</th>\n",
       "      <th>mnth</th>\n",
       "      <th>holiday</th>\n",
       "      <th>weekday</th>\n",
       "      <th>workingday</th>\n",
       "      <th>weathersit</th>\n",
       "      <th>temp</th>\n",
       "      <th>atemp</th>\n",
       "      <th>hum</th>\n",
       "      <th>windspeed</th>\n",
       "      <th>casual</th>\n",
       "      <th>registered</th>\n",
       "      <th>cnt</th>\n",
       "    </tr>\n",
       "  </thead>\n",
       "  <tbody>\n",
       "    <tr>\n",
       "      <th>0</th>\n",
       "      <td>1</td>\n",
       "      <td>2011-01-01</td>\n",
       "      <td>1</td>\n",
       "      <td>0</td>\n",
       "      <td>1</td>\n",
       "      <td>0</td>\n",
       "      <td>6</td>\n",
       "      <td>0</td>\n",
       "      <td>2</td>\n",
       "      <td>0.344167</td>\n",
       "      <td>0.363625</td>\n",
       "      <td>0.805833</td>\n",
       "      <td>0.160446</td>\n",
       "      <td>331</td>\n",
       "      <td>654</td>\n",
       "      <td>985</td>\n",
       "    </tr>\n",
       "    <tr>\n",
       "      <th>1</th>\n",
       "      <td>2</td>\n",
       "      <td>2011-01-02</td>\n",
       "      <td>1</td>\n",
       "      <td>0</td>\n",
       "      <td>1</td>\n",
       "      <td>0</td>\n",
       "      <td>0</td>\n",
       "      <td>0</td>\n",
       "      <td>2</td>\n",
       "      <td>0.363478</td>\n",
       "      <td>0.353739</td>\n",
       "      <td>0.696087</td>\n",
       "      <td>0.248539</td>\n",
       "      <td>131</td>\n",
       "      <td>670</td>\n",
       "      <td>801</td>\n",
       "    </tr>\n",
       "    <tr>\n",
       "      <th>2</th>\n",
       "      <td>3</td>\n",
       "      <td>2011-01-03</td>\n",
       "      <td>1</td>\n",
       "      <td>0</td>\n",
       "      <td>1</td>\n",
       "      <td>0</td>\n",
       "      <td>1</td>\n",
       "      <td>1</td>\n",
       "      <td>1</td>\n",
       "      <td>0.196364</td>\n",
       "      <td>0.189405</td>\n",
       "      <td>0.437273</td>\n",
       "      <td>0.248309</td>\n",
       "      <td>120</td>\n",
       "      <td>1229</td>\n",
       "      <td>1349</td>\n",
       "    </tr>\n",
       "    <tr>\n",
       "      <th>3</th>\n",
       "      <td>4</td>\n",
       "      <td>2011-01-04</td>\n",
       "      <td>1</td>\n",
       "      <td>0</td>\n",
       "      <td>1</td>\n",
       "      <td>0</td>\n",
       "      <td>2</td>\n",
       "      <td>1</td>\n",
       "      <td>1</td>\n",
       "      <td>0.200000</td>\n",
       "      <td>0.212122</td>\n",
       "      <td>0.590435</td>\n",
       "      <td>0.160296</td>\n",
       "      <td>108</td>\n",
       "      <td>1454</td>\n",
       "      <td>1562</td>\n",
       "    </tr>\n",
       "    <tr>\n",
       "      <th>4</th>\n",
       "      <td>5</td>\n",
       "      <td>2011-01-05</td>\n",
       "      <td>1</td>\n",
       "      <td>0</td>\n",
       "      <td>1</td>\n",
       "      <td>0</td>\n",
       "      <td>3</td>\n",
       "      <td>1</td>\n",
       "      <td>1</td>\n",
       "      <td>0.226957</td>\n",
       "      <td>0.229270</td>\n",
       "      <td>0.436957</td>\n",
       "      <td>0.186900</td>\n",
       "      <td>82</td>\n",
       "      <td>1518</td>\n",
       "      <td>1600</td>\n",
       "    </tr>\n",
       "  </tbody>\n",
       "</table>\n",
       "</div>"
      ],
      "text/plain": [
       "   instant      dteday  season  yr  mnth  holiday  weekday  workingday  \\\n",
       "0        1  2011-01-01       1   0     1        0        6           0   \n",
       "1        2  2011-01-02       1   0     1        0        0           0   \n",
       "2        3  2011-01-03       1   0     1        0        1           1   \n",
       "3        4  2011-01-04       1   0     1        0        2           1   \n",
       "4        5  2011-01-05       1   0     1        0        3           1   \n",
       "\n",
       "   weathersit      temp     atemp       hum  windspeed  casual  registered  \\\n",
       "0           2  0.344167  0.363625  0.805833   0.160446     331         654   \n",
       "1           2  0.363478  0.353739  0.696087   0.248539     131         670   \n",
       "2           1  0.196364  0.189405  0.437273   0.248309     120        1229   \n",
       "3           1  0.200000  0.212122  0.590435   0.160296     108        1454   \n",
       "4           1  0.226957  0.229270  0.436957   0.186900      82        1518   \n",
       "\n",
       "    cnt  \n",
       "0   985  \n",
       "1   801  \n",
       "2  1349  \n",
       "3  1562  \n",
       "4  1600  "
      ]
     },
     "execution_count": 16,
     "metadata": {},
     "output_type": "execute_result"
    }
   ],
   "source": [
    "# import data\n",
    "import pandas as pd\n",
    "from sklearn.model_selection import train_test_split\n",
    "bikeshare = pd.read_csv(\"https://philchodrow.github.io/PIC16A/datasets/Bike-Sharing-Dataset/day.csv\")\n",
    "\n",
    "bikeshare.head()"
   ]
  },
  {
   "cell_type": "code",
   "execution_count": 17,
   "id": "f009e412-5f3c-44fb-8423-7a8c4e931d5f",
   "metadata": {},
   "outputs": [
    {
     "data": {
      "image/png": "[encoded data removed]",
      "text/plain": [
       "<Figure size 700x300 with 1 Axes>"
      ]
     },
     "metadata": {},
     "output_type": "display_data"
    }
   ],
   "source": [
    "# plot the number of casual users over time\n",
    "fig, ax = plt.subplots(1, figsize = (7, 3))\n",
    "ax.plot(pd.to_datetime(bikeshare['dteday']), bikeshare['casual'])\n",
    "ax.set(xlabel = \"Day\", ylabel = \"# of casual users\")\n",
    "l = plt.tight_layout()"
   ]
  },
  {
   "cell_type": "code",
   "execution_count": 18,
   "id": "cf859532-5e6a-405d-8a16-e7969807317a",
   "metadata": {},
   "outputs": [
    {
     "data": {
      "text/html": [
       "<div>\n",
       "<style scoped>\n",
       "    .dataframe tbody tr th:only-of-type {\n",
       "        vertical-align: middle;\n",
       "    }\n",
       "\n",
       "    .dataframe tbody tr th {\n",
       "        vertical-align: top;\n",
       "    }\n",
       "\n",
       "    .dataframe thead th {\n",
       "        text-align: right;\n",
       "    }\n",
       "</style>\n",
       "<table border=\"1\" class=\"dataframe\">\n",
       "  <thead>\n",
       "    <tr style=\"text-align: right;\">\n",
       "      <th></th>\n",
       "      <th>casual</th>\n",
       "      <th>weathersit</th>\n",
       "      <th>workingday</th>\n",
       "      <th>yr</th>\n",
       "      <th>temp</th>\n",
       "      <th>hum</th>\n",
       "      <th>windspeed</th>\n",
       "      <th>holiday</th>\n",
       "      <th>mnth_2</th>\n",
       "      <th>mnth_3</th>\n",
       "      <th>mnth_4</th>\n",
       "      <th>mnth_5</th>\n",
       "      <th>mnth_6</th>\n",
       "      <th>mnth_7</th>\n",
       "      <th>mnth_8</th>\n",
       "      <th>mnth_9</th>\n",
       "      <th>mnth_10</th>\n",
       "      <th>mnth_11</th>\n",
       "      <th>mnth_12</th>\n",
       "    </tr>\n",
       "  </thead>\n",
       "  <tbody>\n",
       "    <tr>\n",
       "      <th>0</th>\n",
       "      <td>331</td>\n",
       "      <td>2</td>\n",
       "      <td>0</td>\n",
       "      <td>0</td>\n",
       "      <td>0.344167</td>\n",
       "      <td>0.805833</td>\n",
       "      <td>0.160446</td>\n",
       "      <td>0</td>\n",
       "      <td>0</td>\n",
       "      <td>0</td>\n",
       "      <td>0</td>\n",
       "      <td>0</td>\n",
       "      <td>0</td>\n",
       "      <td>0</td>\n",
       "      <td>0</td>\n",
       "      <td>0</td>\n",
       "      <td>0</td>\n",
       "      <td>0</td>\n",
       "      <td>0</td>\n",
       "    </tr>\n",
       "    <tr>\n",
       "      <th>1</th>\n",
       "      <td>131</td>\n",
       "      <td>2</td>\n",
       "      <td>0</td>\n",
       "      <td>0</td>\n",
       "      <td>0.363478</td>\n",
       "      <td>0.696087</td>\n",
       "      <td>0.248539</td>\n",
       "      <td>0</td>\n",
       "      <td>0</td>\n",
       "      <td>0</td>\n",
       "      <td>0</td>\n",
       "      <td>0</td>\n",
       "      <td>0</td>\n",
       "      <td>0</td>\n",
       "      <td>0</td>\n",
       "      <td>0</td>\n",
       "      <td>0</td>\n",
       "      <td>0</td>\n",
       "      <td>0</td>\n",
       "    </tr>\n",
       "    <tr>\n",
       "      <th>2</th>\n",
       "      <td>120</td>\n",
       "      <td>1</td>\n",
       "      <td>1</td>\n",
       "      <td>0</td>\n",
       "      <td>0.196364</td>\n",
       "      <td>0.437273</td>\n",
       "      <td>0.248309</td>\n",
       "      <td>0</td>\n",
       "      <td>0</td>\n",
       "      <td>0</td>\n",
       "      <td>0</td>\n",
       "      <td>0</td>\n",
       "      <td>0</td>\n",
       "      <td>0</td>\n",
       "      <td>0</td>\n",
       "      <td>0</td>\n",
       "      <td>0</td>\n",
       "      <td>0</td>\n",
       "      <td>0</td>\n",
       "    </tr>\n",
       "    <tr>\n",
       "      <th>3</th>\n",
       "      <td>108</td>\n",
       "      <td>1</td>\n",
       "      <td>1</td>\n",
       "      <td>0</td>\n",
       "      <td>0.200000</td>\n",
       "      <td>0.590435</td>\n",
       "      <td>0.160296</td>\n",
       "      <td>0</td>\n",
       "      <td>0</td>\n",
       "      <td>0</td>\n",
       "      <td>0</td>\n",
       "      <td>0</td>\n",
       "      <td>0</td>\n",
       "      <td>0</td>\n",
       "      <td>0</td>\n",
       "      <td>0</td>\n",
       "      <td>0</td>\n",
       "      <td>0</td>\n",
       "      <td>0</td>\n",
       "    </tr>\n",
       "    <tr>\n",
       "      <th>4</th>\n",
       "      <td>82</td>\n",
       "      <td>1</td>\n",
       "      <td>1</td>\n",
       "      <td>0</td>\n",
       "      <td>0.226957</td>\n",
       "      <td>0.436957</td>\n",
       "      <td>0.186900</td>\n",
       "      <td>0</td>\n",
       "      <td>0</td>\n",
       "      <td>0</td>\n",
       "      <td>0</td>\n",
       "      <td>0</td>\n",
       "      <td>0</td>\n",
       "      <td>0</td>\n",
       "      <td>0</td>\n",
       "      <td>0</td>\n",
       "      <td>0</td>\n",
       "      <td>0</td>\n",
       "      <td>0</td>\n",
       "    </tr>\n",
       "    <tr>\n",
       "      <th>...</th>\n",
       "      <td>...</td>\n",
       "      <td>...</td>\n",
       "      <td>...</td>\n",
       "      <td>...</td>\n",
       "      <td>...</td>\n",
       "      <td>...</td>\n",
       "      <td>...</td>\n",
       "      <td>...</td>\n",
       "      <td>...</td>\n",
       "      <td>...</td>\n",
       "      <td>...</td>\n",
       "      <td>...</td>\n",
       "      <td>...</td>\n",
       "      <td>...</td>\n",
       "      <td>...</td>\n",
       "      <td>...</td>\n",
       "      <td>...</td>\n",
       "      <td>...</td>\n",
       "      <td>...</td>\n",
       "    </tr>\n",
       "    <tr>\n",
       "      <th>726</th>\n",
       "      <td>247</td>\n",
       "      <td>2</td>\n",
       "      <td>1</td>\n",
       "      <td>1</td>\n",
       "      <td>0.254167</td>\n",
       "      <td>0.652917</td>\n",
       "      <td>0.350133</td>\n",
       "      <td>0</td>\n",
       "      <td>0</td>\n",
       "      <td>0</td>\n",
       "      <td>0</td>\n",
       "      <td>0</td>\n",
       "      <td>0</td>\n",
       "      <td>0</td>\n",
       "      <td>0</td>\n",
       "      <td>0</td>\n",
       "      <td>0</td>\n",
       "      <td>0</td>\n",
       "      <td>1</td>\n",
       "    </tr>\n",
       "    <tr>\n",
       "      <th>727</th>\n",
       "      <td>644</td>\n",
       "      <td>2</td>\n",
       "      <td>1</td>\n",
       "      <td>1</td>\n",
       "      <td>0.253333</td>\n",
       "      <td>0.590000</td>\n",
       "      <td>0.155471</td>\n",
       "      <td>0</td>\n",
       "      <td>0</td>\n",
       "      <td>0</td>\n",
       "      <td>0</td>\n",
       "      <td>0</td>\n",
       "      <td>0</td>\n",
       "      <td>0</td>\n",
       "      <td>0</td>\n",
       "      <td>0</td>\n",
       "      <td>0</td>\n",
       "      <td>0</td>\n",
       "      <td>1</td>\n",
       "    </tr>\n",
       "    <tr>\n",
       "      <th>728</th>\n",
       "      <td>159</td>\n",
       "      <td>2</td>\n",
       "      <td>0</td>\n",
       "      <td>1</td>\n",
       "      <td>0.253333</td>\n",
       "      <td>0.752917</td>\n",
       "      <td>0.124383</td>\n",
       "      <td>0</td>\n",
       "      <td>0</td>\n",
       "      <td>0</td>\n",
       "      <td>0</td>\n",
       "      <td>0</td>\n",
       "      <td>0</td>\n",
       "      <td>0</td>\n",
       "      <td>0</td>\n",
       "      <td>0</td>\n",
       "      <td>0</td>\n",
       "      <td>0</td>\n",
       "      <td>1</td>\n",
       "    </tr>\n",
       "    <tr>\n",
       "      <th>729</th>\n",
       "      <td>364</td>\n",
       "      <td>1</td>\n",
       "      <td>0</td>\n",
       "      <td>1</td>\n",
       "      <td>0.255833</td>\n",
       "      <td>0.483333</td>\n",
       "      <td>0.350754</td>\n",
       "      <td>0</td>\n",
       "      <td>0</td>\n",
       "      <td>0</td>\n",
       "      <td>0</td>\n",
       "      <td>0</td>\n",
       "      <td>0</td>\n",
       "      <td>0</td>\n",
       "      <td>0</td>\n",
       "      <td>0</td>\n",
       "      <td>0</td>\n",
       "      <td>0</td>\n",
       "      <td>1</td>\n",
       "    </tr>\n",
       "    <tr>\n",
       "      <th>730</th>\n",
       "      <td>439</td>\n",
       "      <td>2</td>\n",
       "      <td>1</td>\n",
       "      <td>1</td>\n",
       "      <td>0.215833</td>\n",
       "      <td>0.577500</td>\n",
       "      <td>0.154846</td>\n",
       "      <td>0</td>\n",
       "      <td>0</td>\n",
       "      <td>0</td>\n",
       "      <td>0</td>\n",
       "      <td>0</td>\n",
       "      <td>0</td>\n",
       "      <td>0</td>\n",
       "      <td>0</td>\n",
       "      <td>0</td>\n",
       "      <td>0</td>\n",
       "      <td>0</td>\n",
       "      <td>1</td>\n",
       "    </tr>\n",
       "  </tbody>\n",
       "</table>\n",
       "<p>731 rows × 19 columns</p>\n",
       "</div>"
      ],
      "text/plain": [
       "     casual  weathersit  workingday  yr      temp       hum  windspeed  \\\n",
       "0       331           2           0   0  0.344167  0.805833   0.160446   \n",
       "1       131           2           0   0  0.363478  0.696087   0.248539   \n",
       "2       120           1           1   0  0.196364  0.437273   0.248309   \n",
       "3       108           1           1   0  0.200000  0.590435   0.160296   \n",
       "4        82           1           1   0  0.226957  0.436957   0.186900   \n",
       "..      ...         ...         ...  ..       ...       ...        ...   \n",
       "726     247           2           1   1  0.254167  0.652917   0.350133   \n",
       "727     644           2           1   1  0.253333  0.590000   0.155471   \n",
       "728     159           2           0   1  0.253333  0.752917   0.124383   \n",
       "729     364           1           0   1  0.255833  0.483333   0.350754   \n",
       "730     439           2           1   1  0.215833  0.577500   0.154846   \n",
       "\n",
       "     holiday  mnth_2  mnth_3  mnth_4  mnth_5  mnth_6  mnth_7  mnth_8  mnth_9  \\\n",
       "0          0       0       0       0       0       0       0       0       0   \n",
       "1          0       0       0       0       0       0       0       0       0   \n",
       "2          0       0       0       0       0       0       0       0       0   \n",
       "3          0       0       0       0       0       0       0       0       0   \n",
       "4          0       0       0       0       0       0       0       0       0   \n",
       "..       ...     ...     ...     ...     ...     ...     ...     ...     ...   \n",
       "726        0       0       0       0       0       0       0       0       0   \n",
       "727        0       0       0       0       0       0       0       0       0   \n",
       "728        0       0       0       0       0       0       0       0       0   \n",
       "729        0       0       0       0       0       0       0       0       0   \n",
       "730        0       0       0       0       0       0       0       0       0   \n",
       "\n",
       "     mnth_10  mnth_11  mnth_12  \n",
       "0          0        0        0  \n",
       "1          0        0        0  \n",
       "2          0        0        0  \n",
       "3          0        0        0  \n",
       "4          0        0        0  \n",
       "..       ...      ...      ...  \n",
       "726        0        0        1  \n",
       "727        0        0        1  \n",
       "728        0        0        1  \n",
       "729        0        0        1  \n",
       "730        0        0        1  \n",
       "\n",
       "[731 rows x 19 columns]"
      ]
     },
     "execution_count": 18,
     "metadata": {},
     "output_type": "execute_result"
    }
   ],
   "source": [
    "# transforming data\n",
    "cols = [\"casual\", \n",
    "        \"mnth\", \n",
    "        \"weathersit\", \n",
    "        \"workingday\",\n",
    "        \"yr\",\n",
    "        \"temp\", \n",
    "        \"hum\", \n",
    "        \"windspeed\",\n",
    "        \"holiday\"]\n",
    "\n",
    "bikeshare = bikeshare[cols]\n",
    "\n",
    "bikeshare = pd.get_dummies(bikeshare, columns = ['mnth'], drop_first = \"if_binary\")\n",
    "bikeshare"
   ]
  },
  {
   "cell_type": "code",
   "execution_count": 19,
   "id": "66096dce-4125-4596-9ed5-6f83d90e6c28",
   "metadata": {},
   "outputs": [],
   "source": [
    "# train-test split\n",
    "train, test = train_test_split(bikeshare, test_size = .2, shuffle = False)\n",
    "\n",
    "X_train = train.drop([\"casual\"], axis = 1)\n",
    "y_train = train[\"casual\"]\n",
    "\n",
    "X_test = test.drop([\"casual\"], axis = 1)\n",
    "y_test = test[\"casual\"]"
   ]
  },
  {
   "cell_type": "code",
   "execution_count": 38,
   "id": "6c610286-bc77-46cb-bbb4-456e5b3a13a3",
   "metadata": {},
   "outputs": [
    {
     "data": {
      "text/plain": [
       "0.7318355359284503"
      ]
     },
     "execution_count": 38,
     "metadata": {},
     "output_type": "execute_result"
    }
   ],
   "source": [
    "# fit and score the model\n",
    "LR = LinearRegression()\n",
    "LR.fit(X_train, y_train)\n",
    "LR.score(X_train, y_train)"
   ]
  },
  {
   "cell_type": "markdown",
   "id": "8a1c3260-1e37-4e9b-b772-28585683e581",
   "metadata": {},
   "source": [
    "The model has a score of 0.73. "
   ]
  },
  {
   "cell_type": "code",
   "execution_count": 29,
   "id": "b8eaf76d-ae04-4cd3-a172-b7f34c49ebd5",
   "metadata": {},
   "outputs": [
    {
     "data": {
      "image/png": "[encoded data removed]",
      "text/plain": [
       "<Figure size 640x480 with 1 Axes>"
      ]
     },
     "metadata": {},
     "output_type": "display_data"
    }
   ],
   "source": [
    "# compute predictions and visualize in comparison to actual test data\n",
    "y_hat = LR.predict(X_test)\n",
    "\n",
    "plt.plot(np.arange(len(y_hat)), y_hat, label = \"Predictions\")\n",
    "plt.plot(np.arange(len(y_hat)), y_test, label = \"Test data\")\n",
    "         \n",
    "xlab = plt.xlabel(\"Day\")\n",
    "ylab = plt.ylabel(\"Number of casual users\")\n",
    "legend = plt.legend() "
   ]
  },
  {
   "cell_type": "markdown",
   "id": "c21848f7-436e-48e7-9554-df218d81d8a9",
   "metadata": {},
   "source": [
    "It seems that the model does a good job in predicting the general trend in the data -- the overall decreasing number of users and the timing of peaks. However, it tends to underestimate the minimum and maximum values. "
   ]
  },
  {
   "cell_type": "markdown",
   "id": "b89781a3-5e9c-43eb-9f32-c2e6f39d67fa",
   "metadata": {},
   "source": [
    "Finally, I will look into the weight vector and see what it reveals about people's preference of when to use bikeshare. "
   ]
  },
  {
   "cell_type": "code",
   "execution_count": 51,
   "id": "54bae173-533d-4b1b-88d2-1fce321520b6",
   "metadata": {},
   "outputs": [
    {
     "data": {
      "text/html": [
       "<div>\n",
       "<style scoped>\n",
       "    .dataframe tbody tr th:only-of-type {\n",
       "        vertical-align: middle;\n",
       "    }\n",
       "\n",
       "    .dataframe tbody tr th {\n",
       "        vertical-align: top;\n",
       "    }\n",
       "\n",
       "    .dataframe thead th {\n",
       "        text-align: right;\n",
       "    }\n",
       "</style>\n",
       "<table border=\"1\" class=\"dataframe\">\n",
       "  <thead>\n",
       "    <tr style=\"text-align: right;\">\n",
       "      <th></th>\n",
       "      <th>0</th>\n",
       "    </tr>\n",
       "  </thead>\n",
       "  <tbody>\n",
       "    <tr>\n",
       "      <th>weathersit</th>\n",
       "      <td>-108.371136</td>\n",
       "    </tr>\n",
       "    <tr>\n",
       "      <th>workingday</th>\n",
       "      <td>-791.690549</td>\n",
       "    </tr>\n",
       "    <tr>\n",
       "      <th>yr</th>\n",
       "      <td>280.586927</td>\n",
       "    </tr>\n",
       "    <tr>\n",
       "      <th>temp</th>\n",
       "      <td>1498.715113</td>\n",
       "    </tr>\n",
       "    <tr>\n",
       "      <th>hum</th>\n",
       "      <td>-490.100340</td>\n",
       "    </tr>\n",
       "    <tr>\n",
       "      <th>windspeed</th>\n",
       "      <td>-1242.800381</td>\n",
       "    </tr>\n",
       "    <tr>\n",
       "      <th>holiday</th>\n",
       "      <td>-235.879349</td>\n",
       "    </tr>\n",
       "    <tr>\n",
       "      <th>mnth_2</th>\n",
       "      <td>-3.354397</td>\n",
       "    </tr>\n",
       "    <tr>\n",
       "      <th>mnth_3</th>\n",
       "      <td>369.271956</td>\n",
       "    </tr>\n",
       "    <tr>\n",
       "      <th>mnth_4</th>\n",
       "      <td>518.408753</td>\n",
       "    </tr>\n",
       "    <tr>\n",
       "      <th>mnth_5</th>\n",
       "      <td>537.301886</td>\n",
       "    </tr>\n",
       "    <tr>\n",
       "      <th>mnth_6</th>\n",
       "      <td>360.807998</td>\n",
       "    </tr>\n",
       "    <tr>\n",
       "      <th>mnth_7</th>\n",
       "      <td>228.881481</td>\n",
       "    </tr>\n",
       "    <tr>\n",
       "      <th>mnth_8</th>\n",
       "      <td>241.316412</td>\n",
       "    </tr>\n",
       "    <tr>\n",
       "      <th>mnth_9</th>\n",
       "      <td>371.503854</td>\n",
       "    </tr>\n",
       "    <tr>\n",
       "      <th>mnth_10</th>\n",
       "      <td>437.600848</td>\n",
       "    </tr>\n",
       "    <tr>\n",
       "      <th>mnth_11</th>\n",
       "      <td>252.433004</td>\n",
       "    </tr>\n",
       "    <tr>\n",
       "      <th>mnth_12</th>\n",
       "      <td>90.821460</td>\n",
       "    </tr>\n",
       "  </tbody>\n",
       "</table>\n",
       "</div>"
      ],
      "text/plain": [
       "                      0\n",
       "weathersit  -108.371136\n",
       "workingday  -791.690549\n",
       "yr           280.586927\n",
       "temp        1498.715113\n",
       "hum         -490.100340\n",
       "windspeed  -1242.800381\n",
       "holiday     -235.879349\n",
       "mnth_2        -3.354397\n",
       "mnth_3       369.271956\n",
       "mnth_4       518.408753\n",
       "mnth_5       537.301886\n",
       "mnth_6       360.807998\n",
       "mnth_7       228.881481\n",
       "mnth_8       241.316412\n",
       "mnth_9       371.503854\n",
       "mnth_10      437.600848\n",
       "mnth_11      252.433004\n",
       "mnth_12       90.821460"
      ]
     },
     "execution_count": 51,
     "metadata": {},
     "output_type": "execute_result"
    }
   ],
   "source": [
    "# compare weight vector to list of features\n",
    "feature_weights = pd.DataFrame(LR.w[:-1], X_train.columns)\n",
    "feature_weights"
   ]
  },
  {
   "cell_type": "markdown",
   "id": "a5616957-b0df-48b8-b50a-f5a45bfcd353",
   "metadata": {},
   "source": [
    "We can observe a couple of interesting trends from the magnitude and direction of the weights:\n",
    "1. People use bikeshare more when the weather is nicer -- especially when it is warmer and there is less wind. It is also interesting, though, that the <code>weathersit</code> variable is slightly negatively correlated with the number of users. I wonder what exactly this variable is measuring. \n",
    "2. People use bikeshare the most in April and May. This makes sense because weather is the best during this time of the year, while summer is too hot and winter is too cold. \n",
    "3. People use bikeshare more on weekends but less on holidays. "
   ]
  }
 ],
 "metadata": {
  "kernelspec": {
   "display_name": "Python 3 (ipykernel)",
   "language": "python",
   "name": "python3"
  },
  "language_info": {
   "codemirror_mode": {
    "name": "ipython",
    "version": 3
   },
   "file_extension": ".py",
   "mimetype": "text/x-python",
   "name": "python",
   "nbconvert_exporter": "python",
   "pygments_lexer": "ipython3",
   "version": "3.9.13"
  }
 },
 "nbformat": 4,
 "nbformat_minor": 5
}
