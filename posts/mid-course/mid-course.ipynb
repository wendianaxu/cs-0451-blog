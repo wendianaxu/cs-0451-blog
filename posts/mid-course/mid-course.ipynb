{
 "cells": [
  {
   "cell_type": "raw",
   "metadata": {},
   "source": [
    "---\n",
    "title: \"Mid-Course Reflection\"\n",
    "type: \"Reflection\"\n",
    "date: 2023-04-05\n",
    "description: |\n",
    "    We reflect on our learning, engagement, and achievement in the first part of the semester. \n",
    "objectives: \n",
    "  - Reflection\n",
    "publish: \"true\"\n",
    "---"
   ]
  },
  {
   "cell_type": "markdown",
   "metadata": {},
   "source": [
    "# CSCI 0451: Mid-Course Reflection\n",
    "\n",
    "Wen (Diana) Xu"
   ]
  },
  {
   "cell_type": "markdown",
   "metadata": {},
   "source": [
    "## The Data\n",
    "\n",
    "*In this section I'll ask you to fill in some data. You don't have to give precise numbers -- approximate, conversational responses are fine. For example, when I ask \"how often have you attended class,\" good answers include \"almost always,\" \"I've missed three times,\" \"about 75% of the time,\" \"not as often as I want,\" etc.* \n",
    "\n",
    "### Presence in Class\n",
    "\n",
    "- *How often have you attended class? (e.g. \"almost always,\" \"I missed three times,\" etc.)* \n",
    "I attended all classes. \n",
    "- *How often have you taken notes on the core readings ahead of the class period?* \n",
    "About 2/3 of the times. \n",
    "- *How often have you been **prepared** to present the daily warm-up exercise to your team, even if you weren't actually called?* \n",
    "I have been prepared for all warmup activities. \n",
    "- *How many times have you **actually** presented the daily warm-up to your team?* \n",
    "I don't remember exactly, but I presented every time when I was picked. \n",
    "- *How many times have you asked your team for help while presenting the daily warm-up?* \n",
    "About 2-3 times. \n",
    "- *How often have you learned something new from a teammate's presentation of the daily warm-up?* \n",
    "I learned something new for most of the times. \n",
    "- *How often have you helped a teammate during the daily warm-up presentation?* \n",
    "One or two times. \n",
    "\n",
    "### Presence Outside of Class \n",
    "\n",
    "- *How often have you attended Student Hours or Peer Help?* \n",
    "I have attended student hours or peer help more often at the beginning of the semester, about once a week. I haven't been attending for the past few weeks, though. \n",
    "- *How often have you asked for or received help from your fellow students?* \n",
    "A few times a week. \n",
    "- *Have you been regularly participating in a study group outside class?* \n",
    "Yes, about once a week. \n",
    "- *How often have you posted questions or answers in Slack?* \n",
    "I haven't posted questions or answers in Slack. \n",
    "\n",
    "### Assignments and Effort\n",
    "\n",
    "- *How many blog posts have you submitted?* \n",
    "I have submitted four blogposts. \n",
    "- *How many of your submitted blog posts are at each of the following feedback stages?*\n",
    "    - *No revisions suggested:* 4\n",
    "    - *Revisions useful:* 0\n",
    "    - *Revisions encouraged:* 0\n",
    "    - *Incomplete:* 0\n",
    "- *Roughly how many hours per week have you spent on this course outside of class?* About 6-10 hours per week. \n"
   ]
  },
  {
   "cell_type": "markdown",
   "metadata": {},
   "source": [
    "## What You've Learned\n",
    "\n",
    "*At the beginning of the course, you may have expressed an interest in focusing a little extra on one or two of the following four categories:* \n",
    "\n",
    "- ***Theory***: *mathematical descriptions of frameworks and algorithms.*\n",
    "- ***Implementation***: *effective coding and use of tools in order to implement efficient machine learning algorithms.*\n",
    "- ***Experimentation***: *performing experiments to assess the performance of algorithms and clearly communicating about the results.*\n",
    "- ***Social responsibility***: *critical analysis of sources of bias and harm in machine learning algorithms; theoretical formulations of fairness and bias*\n",
    "\n",
    "*Did you choose to focus on any of these categories? If so, what have you done in order to pursue your interest?*    "
   ]
  },
  {
   "cell_type": "markdown",
   "metadata": {},
   "source": [
    "I have chosen to focus on experimentation and social responsibility. \n",
    "For experimentation, I have put more effort into experimentation sections in the blogposts, such as experimenting the linear regression model on the bikeshare dataset, and the penguin classification blogpost. I have thought carefully about the experimentation results and written down my interpretations or raised additional questions regarding the process. I also tried to create my writings and graphs in a way that communicates insights clearly to potential readers. \n",
    "\n",
    "For social responsibility, I have read and thought about the readings on algorithmic bias carefully, and am applying what I have learned from these readings and our classes to a real-world dataset in the auditing allocative bias blogpost. "
   ]
  },
  {
   "cell_type": "markdown",
   "metadata": {},
   "source": [
    "## Reflecting on Goals\n",
    "\n",
    "*For each of the categories below, replace the \"[your response here]\" cell with 1-2 paragraphs in which you reflect on the following questions:* \n",
    "\n",
    "- *In what ways are you **on track to meet your goals** from the beginning of the course? Be specific: explain what the goal is and what you are doing in order to meet it.* \n",
    "- *In what ways are you **not on track to meet your goals** from the beginning of the course? Be specific: explain what the goal is and what gap you see between where you are and your goal.* \n",
    "- *If there's any **context** you want to share about how you are faring relative to your goals, please do!*\n",
    "\n",
    "### Blog Posts"
   ]
  },
  {
   "cell_type": "markdown",
   "metadata": {},
   "source": [
    "I am on track for the goals of submitting a blog post in most weeks during the semester, and submitting the first draft of no more than two blog post after the “best-by” date. I submitted a blog post each week except for Week 5 and Week 6, and all of them before the \"best-by\" date. I am also working on the blog post for auditing bias. I am also in good progress for the goal of having at least five blog posts at the \"No revisions suggested\" level because I currently have four. \n",
    "\n",
    "I am a little behind on my last goal of \"Go above and beyond in at least two blog posts by performing experiments/exploring visualization choices to communicate results/discussing implications significantly beyond what is required.\" I have gone beyond in the penguins blog post by discussing some questions I had about the different performance of different models, but I wished I did more, especially for coming up with my own experimentations and trying new visualization approaches to communicate my results. I think that I haven't been able to put enough time and effort on writing a blog post significantly beyond the requirements because I have been rushing to get them done before the best-by dates. "
   ]
  },
  {
   "cell_type": "markdown",
   "metadata": {},
   "source": [
    "### Course Presence (Participation)"
   ]
  },
  {
   "cell_type": "markdown",
   "metadata": {},
   "source": [
    "I am on track for my goals on preparation before class. For example, I did complete all core and optional readings before class, and prepare for all warmup activities. I have also been working often with classmates after class as I stated in my goals. \n",
    "\n",
    "For my last goal of often attending student hours or peer help, I am behind since I haven't attended student hours or peer help sessions recently. I felt that I didn't have emergent questions that I needed to discuss in these sessions, and sometimes they did not fit with my schedule. "
   ]
  },
  {
   "cell_type": "markdown",
   "metadata": {},
   "source": [
    "### Project "
   ]
  },
  {
   "cell_type": "markdown",
   "metadata": {},
   "source": [
    "We have just started the project, but I think we are on track for submitting our proposal on time. "
   ]
  },
  {
   "cell_type": "markdown",
   "metadata": {},
   "source": [
    "### Other\n",
    "\n",
    "*Is there anything else that you want to share with me about what you have learned, how you have participated, or what you have achieved in CSCI 0451?*"
   ]
  },
  {
   "cell_type": "markdown",
   "metadata": {},
   "source": [
    "### Updating Your Goals\n",
    "\n",
    "From your experience in CSCI 0451 and your other classes this semester, you may feel moved to make modifications to your goals. Are they still feasible? Too ambitious? Not ambitious enough? If you would like to revise any of your goals from your reflective goal-setting, you can do so below. For each goal you want to modify: \n",
    "\n",
    "1. Clearly state what the goal was. \n",
    "2. Clearly state how you've done on that goal so far. \n",
    "3. Clearly state your proposed revised goal for the remainder of the course. "
   ]
  },
  {
   "cell_type": "markdown",
   "metadata": {},
   "source": [
    "I would like to revise my goal of often attending student hours and peer help. I have attended student hours or peer help regularly during the first few weeks of the semester, but haven't attended much recently. I wanted to modify this goal to \"Attend student hours and peer help when I have questions that are not resolved by self effort and discussion with classmates,\" because I feel that it is often more efficient for me to find time on my own or talk to classmates to work on questions. "
   ]
  },
  {
   "cell_type": "markdown",
   "metadata": {},
   "source": [
    "## Grade and Goals\n",
    "\n",
    "*Take 15 minutes to look back on your responses in each of the sections above. Then, state the letter grade that you feel reflects your learning, participation, and achievement in CSCI 0451 **so far**. Here are some soundbytes to help guide your thinking:*\n",
    "\n",
    "### What a Grade Sounds Like\n",
    "\n",
    "*An **A** sounds like:* \n",
    "\n",
    "- *\"I am very proud of my time in this course.\"*\n",
    "- *\"I have grown significantly in multiple ways that matter to me.\"*\n",
    "- *\"I am ready to take the theory, techniques, and ideas of this course into my future classes, projects, hobbies, or career.\"* \n",
    "\n",
    "*A **B** sounds like:* \n",
    "\n",
    "- *\"I had some opportunities to learn more, overall I feel good about my time in this course.\"*\n",
    "- *\"I am able to explain some new things or achieve new tasks.\"*\n",
    "- *\"I can see a few ideas from this course that will be relevant for my future classes, projects, hobbies, or career.\"*\n",
    "\n",
    "*A **C** sounds like:* \n",
    "\n",
    "- *\"I often made a good effort, but I missed many opportunities to get more out of my time in this course.\"*\n",
    "- *\"I might be able to complete some new tasks related to the course content, but only with significant further guidance.\"* \n",
    "- *\"I don't see any ways to take the contents of this course into my future classes, projects, hobbies, or career.\"*\n",
    "\n",
    "*You might find that some of these soundbytes resonate and other's don't! Take some time, see what feels right, and don't be afraid to celebrate your achievements.* "
   ]
  },
  {
   "cell_type": "markdown",
   "metadata": {},
   "source": [
    "> **Upon reflection, I feel that my learning, participation, and achievement in CSCI 0451 (so far) are best reflected by a grade of** A-"
   ]
  },
  {
   "cell_type": "markdown",
   "metadata": {},
   "source": [
    "## (Optional:) How to Improve? \n",
    "\n",
    "*You may feel disappointed by your reflection. Sometimes we don't achieve all our goals -- it happens and it's normal! If you are feeling disappointed by how you've learned, participated, or achieved in CSCI 0451, then feel free to write something about that below. Feel free to just write your feelings. If you have ideas for how to move forward, include those too! We'll talk.* "
   ]
  }
 ],
 "metadata": {
  "kernelspec": {
   "display_name": "Python 3 (ipykernel)",
   "language": "python",
   "name": "python3"
  },
  "language_info": {
   "codemirror_mode": {
    "name": "ipython",
    "version": 3
   },
   "file_extension": ".py",
   "mimetype": "text/x-python",
   "name": "python",
   "nbconvert_exporter": "python",
   "pygments_lexer": "ipython3",
   "version": "3.9.16"
  },
  "vscode": {
   "interpreter": {
    "hash": "debe06cc0f9553f110b64dc3926c05df82dae2145b852c8422b9c04315589dcb"
   }
  }
 },
 "nbformat": 4,
 "nbformat_minor": 4
}
